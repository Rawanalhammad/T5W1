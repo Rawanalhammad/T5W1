{
  "cells": [
    {
      "cell_type": "markdown",
      "id": "5749a10a",
      "metadata": {
        "id": "5749a10a"
      },
      "source": [
        "# Weekly Project 2!"
      ]
    },
    {
      "cell_type": "markdown",
      "id": "92d44841",
      "metadata": {
        "id": "92d44841"
      },
      "source": [
        "## Introduction to Road Traffic Accidents (RTA) Dataset\n",
        "\n",
        "### Dataset Overview\n",
        "The RTA Dataset provides a detailed snapshot of road traffic accidents, capturing a range of data from accident conditions to casualty details. This dataset is essential for analyzing patterns and causes of accidents to improve road safety.\n",
        "\n",
        "### Data Characteristics\n",
        "- **Entries**: The dataset contains 12,316 entries.\n",
        "- **Features**: There are 32 features in the dataset, which include:\n",
        "  - `Time`: Time when the accident occurred.\n",
        "  - `Day_of_week`: Day of the week.\n",
        "  - `Age_band_of_driver`: Age group of the driver involved.\n",
        "  - `Sex_of_driver`: Gender of the driver.\n",
        "  - `Educational_level`: Educational level of the driver.\n",
        "  - `Type_of_vehicle`: Type of vehicle involved in the accident.\n",
        "  - `Cause_of_accident`: Reported cause of the accident.\n",
        "  - `Accident_severity`: Severity of the accident.\n",
        "- **Target Column**: `Accident_severity` is used as the target column for modeling. This feature classifies the severity of each accident.\n",
        "\n",
        "### Objective\n",
        "Students will use this dataset to apply various data visualization, modeling, and evaluation techniques learned in class. The primary goal is to build models that can accurately predict the severity of accidents and to identify the key factors that contribute to severe accidents."
      ]
    },
    {
      "cell_type": "markdown",
      "id": "177291c2",
      "metadata": {
        "id": "177291c2"
      },
      "source": [
        "## Import Libraries\n",
        "Import all the necessary libraries here. Include libraries for handling data (like pandas), visualization (like matplotlib and seaborn), and modeling (like scikit-learn)."
      ]
    },
    {
      "cell_type": "code",
      "execution_count": 264,
      "id": "2ad2bd0e",
      "metadata": {
        "id": "2ad2bd0e"
      },
      "outputs": [],
      "source": [
        "import pandas as pd\n",
        "import seaborn as sns\n",
        "import re\n",
        "import matplotlib.pyplot as plt\n",
        "from sklearn.linear_model import LogisticRegression\n",
        "from sklearn.tree import DecisionTreeClassifier\n",
        "from sklearn.svm import SVC\n",
        "import numpy as np\n",
        "import matplotlib as mpl\n",
        "from sklearn.datasets import fetch_openml"
      ]
    },
    {
      "cell_type": "markdown",
      "id": "5f236af2",
      "metadata": {
        "id": "5f236af2"
      },
      "source": [
        "## Load Data\n",
        "Load the dataset from the provided CSV file into a DataFrame."
      ]
    },
    {
      "cell_type": "code",
      "execution_count": 265,
      "id": "2d3f76e8",
      "metadata": {
        "id": "2d3f76e8"
      },
      "outputs": [],
      "source": [
        "df = pd.read_csv(\"RTA_Dataset.csv\")"
      ]
    },
    {
      "cell_type": "markdown",
      "id": "b9215c2f",
      "metadata": {
        "id": "b9215c2f"
      },
      "source": [
        "## Exploratory Data Analysis (EDA)\n",
        "Perform EDA to understand the data better. This involves several steps to summarize the main characteristics, uncover patterns, and establish relationships:\n",
        "* Find the dataset information and observe the datatypes.\n",
        "* Check the shape of the data to understand its structure.\n",
        "* View the the data with various functions to get an initial sense of the data.\n",
        "* Perform summary statistics on the dataset to grasp central tendencies and variability.\n",
        "* Check for duplicated data.\n",
        "* Check for null values.\n",
        "\n",
        "And apply more if needed!\n"
      ]
    },
    {
      "cell_type": "code",
      "execution_count": 266,
      "id": "b206f836",
      "metadata": {
        "colab": {
          "base_uri": "https://localhost:8080/"
        },
        "id": "b206f836",
        "outputId": "cb519f91-af01-4226-8a9f-ec7f22f866a1"
      },
      "outputs": [
        {
          "output_type": "stream",
          "name": "stdout",
          "text": [
            "<class 'pandas.core.frame.DataFrame'>\n",
            "RangeIndex: 12316 entries, 0 to 12315\n",
            "Data columns (total 32 columns):\n",
            " #   Column                       Non-Null Count  Dtype \n",
            "---  ------                       --------------  ----- \n",
            " 0   Time                         12316 non-null  object\n",
            " 1   Day_of_week                  12316 non-null  object\n",
            " 2   Age_band_of_driver           12316 non-null  object\n",
            " 3   Sex_of_driver                12316 non-null  object\n",
            " 4   Educational_level            11575 non-null  object\n",
            " 5   Vehicle_driver_relation      11737 non-null  object\n",
            " 6   Driving_experience           11487 non-null  object\n",
            " 7   Type_of_vehicle              11366 non-null  object\n",
            " 8   Owner_of_vehicle             11834 non-null  object\n",
            " 9   Service_year_of_vehicle      8388 non-null   object\n",
            " 10  Defect_of_vehicle            7889 non-null   object\n",
            " 11  Area_accident_occured        12077 non-null  object\n",
            " 12  Lanes_or_Medians             11931 non-null  object\n",
            " 13  Road_allignment              12174 non-null  object\n",
            " 14  Types_of_Junction            11429 non-null  object\n",
            " 15  Road_surface_type            12144 non-null  object\n",
            " 16  Road_surface_conditions      12316 non-null  object\n",
            " 17  Light_conditions             12316 non-null  object\n",
            " 18  Weather_conditions           12316 non-null  object\n",
            " 19  Type_of_collision            12161 non-null  object\n",
            " 20  Number_of_vehicles_involved  12316 non-null  int64 \n",
            " 21  Number_of_casualties         12316 non-null  int64 \n",
            " 22  Vehicle_movement             12008 non-null  object\n",
            " 23  Casualty_class               12316 non-null  object\n",
            " 24  Sex_of_casualty              12316 non-null  object\n",
            " 25  Age_band_of_casualty         12316 non-null  object\n",
            " 26  Casualty_severity            12316 non-null  object\n",
            " 27  Work_of_casuality            9118 non-null   object\n",
            " 28  Fitness_of_casuality         9681 non-null   object\n",
            " 29  Pedestrian_movement          12316 non-null  object\n",
            " 30  Cause_of_accident            12316 non-null  object\n",
            " 31  Accident_severity            12316 non-null  object\n",
            "dtypes: int64(2), object(30)\n",
            "memory usage: 3.0+ MB\n"
          ]
        }
      ],
      "source": [
        "df.info()"
      ]
    },
    {
      "cell_type": "code",
      "source": [
        "df.head()"
      ],
      "metadata": {
        "colab": {
          "base_uri": "https://localhost:8080/",
          "height": 307
        },
        "id": "9pWQ2Y2hZRb9",
        "outputId": "6f5a2805-18cd-4c49-c6e6-ec3a34aad999"
      },
      "id": "9pWQ2Y2hZRb9",
      "execution_count": 267,
      "outputs": [
        {
          "output_type": "execute_result",
          "data": {
            "text/plain": [
              "       Time Day_of_week Age_band_of_driver Sex_of_driver   Educational_level  \\\n",
              "0  17:02:00      Monday              18-30          Male   Above high school   \n",
              "1  17:02:00      Monday              31-50          Male  Junior high school   \n",
              "2  17:02:00      Monday              18-30          Male  Junior high school   \n",
              "3   1:06:00      Sunday              18-30          Male  Junior high school   \n",
              "4   1:06:00      Sunday              18-30          Male  Junior high school   \n",
              "\n",
              "  Vehicle_driver_relation Driving_experience      Type_of_vehicle  \\\n",
              "0                Employee              1-2yr           Automobile   \n",
              "1                Employee         Above 10yr  Public (> 45 seats)   \n",
              "2                Employee              1-2yr      Lorry (41?100Q)   \n",
              "3                Employee             5-10yr  Public (> 45 seats)   \n",
              "4                Employee              2-5yr                  NaN   \n",
              "\n",
              "  Owner_of_vehicle Service_year_of_vehicle  ... Vehicle_movement  \\\n",
              "0            Owner              Above 10yr  ...   Going straight   \n",
              "1            Owner                 5-10yrs  ...   Going straight   \n",
              "2            Owner                     NaN  ...   Going straight   \n",
              "3     Governmental                     NaN  ...   Going straight   \n",
              "4            Owner                 5-10yrs  ...   Going straight   \n",
              "\n",
              "    Casualty_class Sex_of_casualty Age_band_of_casualty Casualty_severity  \\\n",
              "0               na              na                   na                na   \n",
              "1               na              na                   na                na   \n",
              "2  Driver or rider            Male                31-50                 3   \n",
              "3       Pedestrian          Female                18-30                 3   \n",
              "4               na              na                   na                na   \n",
              "\n",
              "  Work_of_casuality Fitness_of_casuality Pedestrian_movement  \\\n",
              "0               NaN                  NaN    Not a Pedestrian   \n",
              "1               NaN                  NaN    Not a Pedestrian   \n",
              "2            Driver                  NaN    Not a Pedestrian   \n",
              "3            Driver               Normal    Not a Pedestrian   \n",
              "4               NaN                  NaN    Not a Pedestrian   \n",
              "\n",
              "            Cause_of_accident Accident_severity  \n",
              "0             Moving Backward     Slight Injury  \n",
              "1                  Overtaking     Slight Injury  \n",
              "2   Changing lane to the left    Serious Injury  \n",
              "3  Changing lane to the right     Slight Injury  \n",
              "4                  Overtaking     Slight Injury  \n",
              "\n",
              "[5 rows x 32 columns]"
            ],
            "text/html": [
              "\n",
              "  <div id=\"df-6822f8e7-5187-4a80-822f-03e7372da366\" class=\"colab-df-container\">\n",
              "    <div>\n",
              "<style scoped>\n",
              "    .dataframe tbody tr th:only-of-type {\n",
              "        vertical-align: middle;\n",
              "    }\n",
              "\n",
              "    .dataframe tbody tr th {\n",
              "        vertical-align: top;\n",
              "    }\n",
              "\n",
              "    .dataframe thead th {\n",
              "        text-align: right;\n",
              "    }\n",
              "</style>\n",
              "<table border=\"1\" class=\"dataframe\">\n",
              "  <thead>\n",
              "    <tr style=\"text-align: right;\">\n",
              "      <th></th>\n",
              "      <th>Time</th>\n",
              "      <th>Day_of_week</th>\n",
              "      <th>Age_band_of_driver</th>\n",
              "      <th>Sex_of_driver</th>\n",
              "      <th>Educational_level</th>\n",
              "      <th>Vehicle_driver_relation</th>\n",
              "      <th>Driving_experience</th>\n",
              "      <th>Type_of_vehicle</th>\n",
              "      <th>Owner_of_vehicle</th>\n",
              "      <th>Service_year_of_vehicle</th>\n",
              "      <th>...</th>\n",
              "      <th>Vehicle_movement</th>\n",
              "      <th>Casualty_class</th>\n",
              "      <th>Sex_of_casualty</th>\n",
              "      <th>Age_band_of_casualty</th>\n",
              "      <th>Casualty_severity</th>\n",
              "      <th>Work_of_casuality</th>\n",
              "      <th>Fitness_of_casuality</th>\n",
              "      <th>Pedestrian_movement</th>\n",
              "      <th>Cause_of_accident</th>\n",
              "      <th>Accident_severity</th>\n",
              "    </tr>\n",
              "  </thead>\n",
              "  <tbody>\n",
              "    <tr>\n",
              "      <th>0</th>\n",
              "      <td>17:02:00</td>\n",
              "      <td>Monday</td>\n",
              "      <td>18-30</td>\n",
              "      <td>Male</td>\n",
              "      <td>Above high school</td>\n",
              "      <td>Employee</td>\n",
              "      <td>1-2yr</td>\n",
              "      <td>Automobile</td>\n",
              "      <td>Owner</td>\n",
              "      <td>Above 10yr</td>\n",
              "      <td>...</td>\n",
              "      <td>Going straight</td>\n",
              "      <td>na</td>\n",
              "      <td>na</td>\n",
              "      <td>na</td>\n",
              "      <td>na</td>\n",
              "      <td>NaN</td>\n",
              "      <td>NaN</td>\n",
              "      <td>Not a Pedestrian</td>\n",
              "      <td>Moving Backward</td>\n",
              "      <td>Slight Injury</td>\n",
              "    </tr>\n",
              "    <tr>\n",
              "      <th>1</th>\n",
              "      <td>17:02:00</td>\n",
              "      <td>Monday</td>\n",
              "      <td>31-50</td>\n",
              "      <td>Male</td>\n",
              "      <td>Junior high school</td>\n",
              "      <td>Employee</td>\n",
              "      <td>Above 10yr</td>\n",
              "      <td>Public (&gt; 45 seats)</td>\n",
              "      <td>Owner</td>\n",
              "      <td>5-10yrs</td>\n",
              "      <td>...</td>\n",
              "      <td>Going straight</td>\n",
              "      <td>na</td>\n",
              "      <td>na</td>\n",
              "      <td>na</td>\n",
              "      <td>na</td>\n",
              "      <td>NaN</td>\n",
              "      <td>NaN</td>\n",
              "      <td>Not a Pedestrian</td>\n",
              "      <td>Overtaking</td>\n",
              "      <td>Slight Injury</td>\n",
              "    </tr>\n",
              "    <tr>\n",
              "      <th>2</th>\n",
              "      <td>17:02:00</td>\n",
              "      <td>Monday</td>\n",
              "      <td>18-30</td>\n",
              "      <td>Male</td>\n",
              "      <td>Junior high school</td>\n",
              "      <td>Employee</td>\n",
              "      <td>1-2yr</td>\n",
              "      <td>Lorry (41?100Q)</td>\n",
              "      <td>Owner</td>\n",
              "      <td>NaN</td>\n",
              "      <td>...</td>\n",
              "      <td>Going straight</td>\n",
              "      <td>Driver or rider</td>\n",
              "      <td>Male</td>\n",
              "      <td>31-50</td>\n",
              "      <td>3</td>\n",
              "      <td>Driver</td>\n",
              "      <td>NaN</td>\n",
              "      <td>Not a Pedestrian</td>\n",
              "      <td>Changing lane to the left</td>\n",
              "      <td>Serious Injury</td>\n",
              "    </tr>\n",
              "    <tr>\n",
              "      <th>3</th>\n",
              "      <td>1:06:00</td>\n",
              "      <td>Sunday</td>\n",
              "      <td>18-30</td>\n",
              "      <td>Male</td>\n",
              "      <td>Junior high school</td>\n",
              "      <td>Employee</td>\n",
              "      <td>5-10yr</td>\n",
              "      <td>Public (&gt; 45 seats)</td>\n",
              "      <td>Governmental</td>\n",
              "      <td>NaN</td>\n",
              "      <td>...</td>\n",
              "      <td>Going straight</td>\n",
              "      <td>Pedestrian</td>\n",
              "      <td>Female</td>\n",
              "      <td>18-30</td>\n",
              "      <td>3</td>\n",
              "      <td>Driver</td>\n",
              "      <td>Normal</td>\n",
              "      <td>Not a Pedestrian</td>\n",
              "      <td>Changing lane to the right</td>\n",
              "      <td>Slight Injury</td>\n",
              "    </tr>\n",
              "    <tr>\n",
              "      <th>4</th>\n",
              "      <td>1:06:00</td>\n",
              "      <td>Sunday</td>\n",
              "      <td>18-30</td>\n",
              "      <td>Male</td>\n",
              "      <td>Junior high school</td>\n",
              "      <td>Employee</td>\n",
              "      <td>2-5yr</td>\n",
              "      <td>NaN</td>\n",
              "      <td>Owner</td>\n",
              "      <td>5-10yrs</td>\n",
              "      <td>...</td>\n",
              "      <td>Going straight</td>\n",
              "      <td>na</td>\n",
              "      <td>na</td>\n",
              "      <td>na</td>\n",
              "      <td>na</td>\n",
              "      <td>NaN</td>\n",
              "      <td>NaN</td>\n",
              "      <td>Not a Pedestrian</td>\n",
              "      <td>Overtaking</td>\n",
              "      <td>Slight Injury</td>\n",
              "    </tr>\n",
              "  </tbody>\n",
              "</table>\n",
              "<p>5 rows × 32 columns</p>\n",
              "</div>\n",
              "    <div class=\"colab-df-buttons\">\n",
              "\n",
              "  <div class=\"colab-df-container\">\n",
              "    <button class=\"colab-df-convert\" onclick=\"convertToInteractive('df-6822f8e7-5187-4a80-822f-03e7372da366')\"\n",
              "            title=\"Convert this dataframe to an interactive table.\"\n",
              "            style=\"display:none;\">\n",
              "\n",
              "  <svg xmlns=\"http://www.w3.org/2000/svg\" height=\"24px\" viewBox=\"0 -960 960 960\">\n",
              "    <path d=\"M120-120v-720h720v720H120Zm60-500h600v-160H180v160Zm220 220h160v-160H400v160Zm0 220h160v-160H400v160ZM180-400h160v-160H180v160Zm440 0h160v-160H620v160ZM180-180h160v-160H180v160Zm440 0h160v-160H620v160Z\"/>\n",
              "  </svg>\n",
              "    </button>\n",
              "\n",
              "  <style>\n",
              "    .colab-df-container {\n",
              "      display:flex;\n",
              "      gap: 12px;\n",
              "    }\n",
              "\n",
              "    .colab-df-convert {\n",
              "      background-color: #E8F0FE;\n",
              "      border: none;\n",
              "      border-radius: 50%;\n",
              "      cursor: pointer;\n",
              "      display: none;\n",
              "      fill: #1967D2;\n",
              "      height: 32px;\n",
              "      padding: 0 0 0 0;\n",
              "      width: 32px;\n",
              "    }\n",
              "\n",
              "    .colab-df-convert:hover {\n",
              "      background-color: #E2EBFA;\n",
              "      box-shadow: 0px 1px 2px rgba(60, 64, 67, 0.3), 0px 1px 3px 1px rgba(60, 64, 67, 0.15);\n",
              "      fill: #174EA6;\n",
              "    }\n",
              "\n",
              "    .colab-df-buttons div {\n",
              "      margin-bottom: 4px;\n",
              "    }\n",
              "\n",
              "    [theme=dark] .colab-df-convert {\n",
              "      background-color: #3B4455;\n",
              "      fill: #D2E3FC;\n",
              "    }\n",
              "\n",
              "    [theme=dark] .colab-df-convert:hover {\n",
              "      background-color: #434B5C;\n",
              "      box-shadow: 0px 1px 3px 1px rgba(0, 0, 0, 0.15);\n",
              "      filter: drop-shadow(0px 1px 2px rgba(0, 0, 0, 0.3));\n",
              "      fill: #FFFFFF;\n",
              "    }\n",
              "  </style>\n",
              "\n",
              "    <script>\n",
              "      const buttonEl =\n",
              "        document.querySelector('#df-6822f8e7-5187-4a80-822f-03e7372da366 button.colab-df-convert');\n",
              "      buttonEl.style.display =\n",
              "        google.colab.kernel.accessAllowed ? 'block' : 'none';\n",
              "\n",
              "      async function convertToInteractive(key) {\n",
              "        const element = document.querySelector('#df-6822f8e7-5187-4a80-822f-03e7372da366');\n",
              "        const dataTable =\n",
              "          await google.colab.kernel.invokeFunction('convertToInteractive',\n",
              "                                                    [key], {});\n",
              "        if (!dataTable) return;\n",
              "\n",
              "        const docLinkHtml = 'Like what you see? Visit the ' +\n",
              "          '<a target=\"_blank\" href=https://colab.research.google.com/notebooks/data_table.ipynb>data table notebook</a>'\n",
              "          + ' to learn more about interactive tables.';\n",
              "        element.innerHTML = '';\n",
              "        dataTable['output_type'] = 'display_data';\n",
              "        await google.colab.output.renderOutput(dataTable, element);\n",
              "        const docLink = document.createElement('div');\n",
              "        docLink.innerHTML = docLinkHtml;\n",
              "        element.appendChild(docLink);\n",
              "      }\n",
              "    </script>\n",
              "  </div>\n",
              "\n",
              "\n",
              "<div id=\"df-763e9e58-1899-41e5-909b-7c4be37a7579\">\n",
              "  <button class=\"colab-df-quickchart\" onclick=\"quickchart('df-763e9e58-1899-41e5-909b-7c4be37a7579')\"\n",
              "            title=\"Suggest charts\"\n",
              "            style=\"display:none;\">\n",
              "\n",
              "<svg xmlns=\"http://www.w3.org/2000/svg\" height=\"24px\"viewBox=\"0 0 24 24\"\n",
              "     width=\"24px\">\n",
              "    <g>\n",
              "        <path d=\"M19 3H5c-1.1 0-2 .9-2 2v14c0 1.1.9 2 2 2h14c1.1 0 2-.9 2-2V5c0-1.1-.9-2-2-2zM9 17H7v-7h2v7zm4 0h-2V7h2v10zm4 0h-2v-4h2v4z\"/>\n",
              "    </g>\n",
              "</svg>\n",
              "  </button>\n",
              "\n",
              "<style>\n",
              "  .colab-df-quickchart {\n",
              "      --bg-color: #E8F0FE;\n",
              "      --fill-color: #1967D2;\n",
              "      --hover-bg-color: #E2EBFA;\n",
              "      --hover-fill-color: #174EA6;\n",
              "      --disabled-fill-color: #AAA;\n",
              "      --disabled-bg-color: #DDD;\n",
              "  }\n",
              "\n",
              "  [theme=dark] .colab-df-quickchart {\n",
              "      --bg-color: #3B4455;\n",
              "      --fill-color: #D2E3FC;\n",
              "      --hover-bg-color: #434B5C;\n",
              "      --hover-fill-color: #FFFFFF;\n",
              "      --disabled-bg-color: #3B4455;\n",
              "      --disabled-fill-color: #666;\n",
              "  }\n",
              "\n",
              "  .colab-df-quickchart {\n",
              "    background-color: var(--bg-color);\n",
              "    border: none;\n",
              "    border-radius: 50%;\n",
              "    cursor: pointer;\n",
              "    display: none;\n",
              "    fill: var(--fill-color);\n",
              "    height: 32px;\n",
              "    padding: 0;\n",
              "    width: 32px;\n",
              "  }\n",
              "\n",
              "  .colab-df-quickchart:hover {\n",
              "    background-color: var(--hover-bg-color);\n",
              "    box-shadow: 0 1px 2px rgba(60, 64, 67, 0.3), 0 1px 3px 1px rgba(60, 64, 67, 0.15);\n",
              "    fill: var(--button-hover-fill-color);\n",
              "  }\n",
              "\n",
              "  .colab-df-quickchart-complete:disabled,\n",
              "  .colab-df-quickchart-complete:disabled:hover {\n",
              "    background-color: var(--disabled-bg-color);\n",
              "    fill: var(--disabled-fill-color);\n",
              "    box-shadow: none;\n",
              "  }\n",
              "\n",
              "  .colab-df-spinner {\n",
              "    border: 2px solid var(--fill-color);\n",
              "    border-color: transparent;\n",
              "    border-bottom-color: var(--fill-color);\n",
              "    animation:\n",
              "      spin 1s steps(1) infinite;\n",
              "  }\n",
              "\n",
              "  @keyframes spin {\n",
              "    0% {\n",
              "      border-color: transparent;\n",
              "      border-bottom-color: var(--fill-color);\n",
              "      border-left-color: var(--fill-color);\n",
              "    }\n",
              "    20% {\n",
              "      border-color: transparent;\n",
              "      border-left-color: var(--fill-color);\n",
              "      border-top-color: var(--fill-color);\n",
              "    }\n",
              "    30% {\n",
              "      border-color: transparent;\n",
              "      border-left-color: var(--fill-color);\n",
              "      border-top-color: var(--fill-color);\n",
              "      border-right-color: var(--fill-color);\n",
              "    }\n",
              "    40% {\n",
              "      border-color: transparent;\n",
              "      border-right-color: var(--fill-color);\n",
              "      border-top-color: var(--fill-color);\n",
              "    }\n",
              "    60% {\n",
              "      border-color: transparent;\n",
              "      border-right-color: var(--fill-color);\n",
              "    }\n",
              "    80% {\n",
              "      border-color: transparent;\n",
              "      border-right-color: var(--fill-color);\n",
              "      border-bottom-color: var(--fill-color);\n",
              "    }\n",
              "    90% {\n",
              "      border-color: transparent;\n",
              "      border-bottom-color: var(--fill-color);\n",
              "    }\n",
              "  }\n",
              "</style>\n",
              "\n",
              "  <script>\n",
              "    async function quickchart(key) {\n",
              "      const quickchartButtonEl =\n",
              "        document.querySelector('#' + key + ' button');\n",
              "      quickchartButtonEl.disabled = true;  // To prevent multiple clicks.\n",
              "      quickchartButtonEl.classList.add('colab-df-spinner');\n",
              "      try {\n",
              "        const charts = await google.colab.kernel.invokeFunction(\n",
              "            'suggestCharts', [key], {});\n",
              "      } catch (error) {\n",
              "        console.error('Error during call to suggestCharts:', error);\n",
              "      }\n",
              "      quickchartButtonEl.classList.remove('colab-df-spinner');\n",
              "      quickchartButtonEl.classList.add('colab-df-quickchart-complete');\n",
              "    }\n",
              "    (() => {\n",
              "      let quickchartButtonEl =\n",
              "        document.querySelector('#df-763e9e58-1899-41e5-909b-7c4be37a7579 button');\n",
              "      quickchartButtonEl.style.display =\n",
              "        google.colab.kernel.accessAllowed ? 'block' : 'none';\n",
              "    })();\n",
              "  </script>\n",
              "</div>\n",
              "\n",
              "    </div>\n",
              "  </div>\n"
            ],
            "application/vnd.google.colaboratory.intrinsic+json": {
              "type": "dataframe",
              "variable_name": "df"
            }
          },
          "metadata": {},
          "execution_count": 267
        }
      ]
    },
    {
      "cell_type": "code",
      "source": [
        "df.tail()"
      ],
      "metadata": {
        "colab": {
          "base_uri": "https://localhost:8080/",
          "height": 325
        },
        "id": "p6O080fgZUir",
        "outputId": "a6e36390-b62d-4d25-e44b-8489cb8be833"
      },
      "id": "p6O080fgZUir",
      "execution_count": 268,
      "outputs": [
        {
          "output_type": "execute_result",
          "data": {
            "text/plain": [
              "           Time Day_of_week Age_band_of_driver Sex_of_driver  \\\n",
              "12311  16:15:00   Wednesday              31-50          Male   \n",
              "12312  18:00:00      Sunday            Unknown          Male   \n",
              "12313  13:55:00      Sunday            Over 51          Male   \n",
              "12314  13:55:00      Sunday              18-30        Female   \n",
              "12315  13:55:00      Sunday              18-30          Male   \n",
              "\n",
              "        Educational_level Vehicle_driver_relation Driving_experience  \\\n",
              "12311                 NaN                Employee              2-5yr   \n",
              "12312   Elementary school                Employee             5-10yr   \n",
              "12313  Junior high school                Employee             5-10yr   \n",
              "12314  Junior high school                Employee         Above 10yr   \n",
              "12315  Junior high school                Employee             5-10yr   \n",
              "\n",
              "       Type_of_vehicle Owner_of_vehicle Service_year_of_vehicle  ...  \\\n",
              "12311   Lorry (11?40Q)            Owner                     NaN  ...   \n",
              "12312       Automobile            Owner                     NaN  ...   \n",
              "12313            Bajaj            Owner                  2-5yrs  ...   \n",
              "12314  Lorry (41?100Q)            Owner                  2-5yrs  ...   \n",
              "12315            Other            Owner                  2-5yrs  ...   \n",
              "\n",
              "      Vehicle_movement   Casualty_class Sex_of_casualty Age_band_of_casualty  \\\n",
              "12311   Going straight               na              na                   na   \n",
              "12312            Other               na              na                   na   \n",
              "12313            Other  Driver or rider            Male                31-50   \n",
              "12314            Other               na              na                   na   \n",
              "12315         Stopping       Pedestrian          Female                    5   \n",
              "\n",
              "      Casualty_severity Work_of_casuality Fitness_of_casuality  \\\n",
              "12311                na            Driver               Normal   \n",
              "12312                na            Driver               Normal   \n",
              "12313                 3            Driver               Normal   \n",
              "12314                na            Driver               Normal   \n",
              "12315                 3            Driver               Normal   \n",
              "\n",
              "                                     Pedestrian_movement  \\\n",
              "12311                                   Not a Pedestrian   \n",
              "12312                                   Not a Pedestrian   \n",
              "12313                                   Not a Pedestrian   \n",
              "12314                                   Not a Pedestrian   \n",
              "12315  Crossing from nearside - masked by parked or s...   \n",
              "\n",
              "                          Cause_of_accident Accident_severity  \n",
              "12311                         No distancing     Slight Injury  \n",
              "12312                         No distancing     Slight Injury  \n",
              "12313            Changing lane to the right    Serious Injury  \n",
              "12314  Driving under the influence of drugs     Slight Injury  \n",
              "12315            Changing lane to the right     Slight Injury  \n",
              "\n",
              "[5 rows x 32 columns]"
            ],
            "text/html": [
              "\n",
              "  <div id=\"df-3548d32b-2e0f-4e0f-aff8-35ae0482f600\" class=\"colab-df-container\">\n",
              "    <div>\n",
              "<style scoped>\n",
              "    .dataframe tbody tr th:only-of-type {\n",
              "        vertical-align: middle;\n",
              "    }\n",
              "\n",
              "    .dataframe tbody tr th {\n",
              "        vertical-align: top;\n",
              "    }\n",
              "\n",
              "    .dataframe thead th {\n",
              "        text-align: right;\n",
              "    }\n",
              "</style>\n",
              "<table border=\"1\" class=\"dataframe\">\n",
              "  <thead>\n",
              "    <tr style=\"text-align: right;\">\n",
              "      <th></th>\n",
              "      <th>Time</th>\n",
              "      <th>Day_of_week</th>\n",
              "      <th>Age_band_of_driver</th>\n",
              "      <th>Sex_of_driver</th>\n",
              "      <th>Educational_level</th>\n",
              "      <th>Vehicle_driver_relation</th>\n",
              "      <th>Driving_experience</th>\n",
              "      <th>Type_of_vehicle</th>\n",
              "      <th>Owner_of_vehicle</th>\n",
              "      <th>Service_year_of_vehicle</th>\n",
              "      <th>...</th>\n",
              "      <th>Vehicle_movement</th>\n",
              "      <th>Casualty_class</th>\n",
              "      <th>Sex_of_casualty</th>\n",
              "      <th>Age_band_of_casualty</th>\n",
              "      <th>Casualty_severity</th>\n",
              "      <th>Work_of_casuality</th>\n",
              "      <th>Fitness_of_casuality</th>\n",
              "      <th>Pedestrian_movement</th>\n",
              "      <th>Cause_of_accident</th>\n",
              "      <th>Accident_severity</th>\n",
              "    </tr>\n",
              "  </thead>\n",
              "  <tbody>\n",
              "    <tr>\n",
              "      <th>12311</th>\n",
              "      <td>16:15:00</td>\n",
              "      <td>Wednesday</td>\n",
              "      <td>31-50</td>\n",
              "      <td>Male</td>\n",
              "      <td>NaN</td>\n",
              "      <td>Employee</td>\n",
              "      <td>2-5yr</td>\n",
              "      <td>Lorry (11?40Q)</td>\n",
              "      <td>Owner</td>\n",
              "      <td>NaN</td>\n",
              "      <td>...</td>\n",
              "      <td>Going straight</td>\n",
              "      <td>na</td>\n",
              "      <td>na</td>\n",
              "      <td>na</td>\n",
              "      <td>na</td>\n",
              "      <td>Driver</td>\n",
              "      <td>Normal</td>\n",
              "      <td>Not a Pedestrian</td>\n",
              "      <td>No distancing</td>\n",
              "      <td>Slight Injury</td>\n",
              "    </tr>\n",
              "    <tr>\n",
              "      <th>12312</th>\n",
              "      <td>18:00:00</td>\n",
              "      <td>Sunday</td>\n",
              "      <td>Unknown</td>\n",
              "      <td>Male</td>\n",
              "      <td>Elementary school</td>\n",
              "      <td>Employee</td>\n",
              "      <td>5-10yr</td>\n",
              "      <td>Automobile</td>\n",
              "      <td>Owner</td>\n",
              "      <td>NaN</td>\n",
              "      <td>...</td>\n",
              "      <td>Other</td>\n",
              "      <td>na</td>\n",
              "      <td>na</td>\n",
              "      <td>na</td>\n",
              "      <td>na</td>\n",
              "      <td>Driver</td>\n",
              "      <td>Normal</td>\n",
              "      <td>Not a Pedestrian</td>\n",
              "      <td>No distancing</td>\n",
              "      <td>Slight Injury</td>\n",
              "    </tr>\n",
              "    <tr>\n",
              "      <th>12313</th>\n",
              "      <td>13:55:00</td>\n",
              "      <td>Sunday</td>\n",
              "      <td>Over 51</td>\n",
              "      <td>Male</td>\n",
              "      <td>Junior high school</td>\n",
              "      <td>Employee</td>\n",
              "      <td>5-10yr</td>\n",
              "      <td>Bajaj</td>\n",
              "      <td>Owner</td>\n",
              "      <td>2-5yrs</td>\n",
              "      <td>...</td>\n",
              "      <td>Other</td>\n",
              "      <td>Driver or rider</td>\n",
              "      <td>Male</td>\n",
              "      <td>31-50</td>\n",
              "      <td>3</td>\n",
              "      <td>Driver</td>\n",
              "      <td>Normal</td>\n",
              "      <td>Not a Pedestrian</td>\n",
              "      <td>Changing lane to the right</td>\n",
              "      <td>Serious Injury</td>\n",
              "    </tr>\n",
              "    <tr>\n",
              "      <th>12314</th>\n",
              "      <td>13:55:00</td>\n",
              "      <td>Sunday</td>\n",
              "      <td>18-30</td>\n",
              "      <td>Female</td>\n",
              "      <td>Junior high school</td>\n",
              "      <td>Employee</td>\n",
              "      <td>Above 10yr</td>\n",
              "      <td>Lorry (41?100Q)</td>\n",
              "      <td>Owner</td>\n",
              "      <td>2-5yrs</td>\n",
              "      <td>...</td>\n",
              "      <td>Other</td>\n",
              "      <td>na</td>\n",
              "      <td>na</td>\n",
              "      <td>na</td>\n",
              "      <td>na</td>\n",
              "      <td>Driver</td>\n",
              "      <td>Normal</td>\n",
              "      <td>Not a Pedestrian</td>\n",
              "      <td>Driving under the influence of drugs</td>\n",
              "      <td>Slight Injury</td>\n",
              "    </tr>\n",
              "    <tr>\n",
              "      <th>12315</th>\n",
              "      <td>13:55:00</td>\n",
              "      <td>Sunday</td>\n",
              "      <td>18-30</td>\n",
              "      <td>Male</td>\n",
              "      <td>Junior high school</td>\n",
              "      <td>Employee</td>\n",
              "      <td>5-10yr</td>\n",
              "      <td>Other</td>\n",
              "      <td>Owner</td>\n",
              "      <td>2-5yrs</td>\n",
              "      <td>...</td>\n",
              "      <td>Stopping</td>\n",
              "      <td>Pedestrian</td>\n",
              "      <td>Female</td>\n",
              "      <td>5</td>\n",
              "      <td>3</td>\n",
              "      <td>Driver</td>\n",
              "      <td>Normal</td>\n",
              "      <td>Crossing from nearside - masked by parked or s...</td>\n",
              "      <td>Changing lane to the right</td>\n",
              "      <td>Slight Injury</td>\n",
              "    </tr>\n",
              "  </tbody>\n",
              "</table>\n",
              "<p>5 rows × 32 columns</p>\n",
              "</div>\n",
              "    <div class=\"colab-df-buttons\">\n",
              "\n",
              "  <div class=\"colab-df-container\">\n",
              "    <button class=\"colab-df-convert\" onclick=\"convertToInteractive('df-3548d32b-2e0f-4e0f-aff8-35ae0482f600')\"\n",
              "            title=\"Convert this dataframe to an interactive table.\"\n",
              "            style=\"display:none;\">\n",
              "\n",
              "  <svg xmlns=\"http://www.w3.org/2000/svg\" height=\"24px\" viewBox=\"0 -960 960 960\">\n",
              "    <path d=\"M120-120v-720h720v720H120Zm60-500h600v-160H180v160Zm220 220h160v-160H400v160Zm0 220h160v-160H400v160ZM180-400h160v-160H180v160Zm440 0h160v-160H620v160ZM180-180h160v-160H180v160Zm440 0h160v-160H620v160Z\"/>\n",
              "  </svg>\n",
              "    </button>\n",
              "\n",
              "  <style>\n",
              "    .colab-df-container {\n",
              "      display:flex;\n",
              "      gap: 12px;\n",
              "    }\n",
              "\n",
              "    .colab-df-convert {\n",
              "      background-color: #E8F0FE;\n",
              "      border: none;\n",
              "      border-radius: 50%;\n",
              "      cursor: pointer;\n",
              "      display: none;\n",
              "      fill: #1967D2;\n",
              "      height: 32px;\n",
              "      padding: 0 0 0 0;\n",
              "      width: 32px;\n",
              "    }\n",
              "\n",
              "    .colab-df-convert:hover {\n",
              "      background-color: #E2EBFA;\n",
              "      box-shadow: 0px 1px 2px rgba(60, 64, 67, 0.3), 0px 1px 3px 1px rgba(60, 64, 67, 0.15);\n",
              "      fill: #174EA6;\n",
              "    }\n",
              "\n",
              "    .colab-df-buttons div {\n",
              "      margin-bottom: 4px;\n",
              "    }\n",
              "\n",
              "    [theme=dark] .colab-df-convert {\n",
              "      background-color: #3B4455;\n",
              "      fill: #D2E3FC;\n",
              "    }\n",
              "\n",
              "    [theme=dark] .colab-df-convert:hover {\n",
              "      background-color: #434B5C;\n",
              "      box-shadow: 0px 1px 3px 1px rgba(0, 0, 0, 0.15);\n",
              "      filter: drop-shadow(0px 1px 2px rgba(0, 0, 0, 0.3));\n",
              "      fill: #FFFFFF;\n",
              "    }\n",
              "  </style>\n",
              "\n",
              "    <script>\n",
              "      const buttonEl =\n",
              "        document.querySelector('#df-3548d32b-2e0f-4e0f-aff8-35ae0482f600 button.colab-df-convert');\n",
              "      buttonEl.style.display =\n",
              "        google.colab.kernel.accessAllowed ? 'block' : 'none';\n",
              "\n",
              "      async function convertToInteractive(key) {\n",
              "        const element = document.querySelector('#df-3548d32b-2e0f-4e0f-aff8-35ae0482f600');\n",
              "        const dataTable =\n",
              "          await google.colab.kernel.invokeFunction('convertToInteractive',\n",
              "                                                    [key], {});\n",
              "        if (!dataTable) return;\n",
              "\n",
              "        const docLinkHtml = 'Like what you see? Visit the ' +\n",
              "          '<a target=\"_blank\" href=https://colab.research.google.com/notebooks/data_table.ipynb>data table notebook</a>'\n",
              "          + ' to learn more about interactive tables.';\n",
              "        element.innerHTML = '';\n",
              "        dataTable['output_type'] = 'display_data';\n",
              "        await google.colab.output.renderOutput(dataTable, element);\n",
              "        const docLink = document.createElement('div');\n",
              "        docLink.innerHTML = docLinkHtml;\n",
              "        element.appendChild(docLink);\n",
              "      }\n",
              "    </script>\n",
              "  </div>\n",
              "\n",
              "\n",
              "<div id=\"df-4abd1319-5832-4fd6-8ec4-a0c2bcc7abda\">\n",
              "  <button class=\"colab-df-quickchart\" onclick=\"quickchart('df-4abd1319-5832-4fd6-8ec4-a0c2bcc7abda')\"\n",
              "            title=\"Suggest charts\"\n",
              "            style=\"display:none;\">\n",
              "\n",
              "<svg xmlns=\"http://www.w3.org/2000/svg\" height=\"24px\"viewBox=\"0 0 24 24\"\n",
              "     width=\"24px\">\n",
              "    <g>\n",
              "        <path d=\"M19 3H5c-1.1 0-2 .9-2 2v14c0 1.1.9 2 2 2h14c1.1 0 2-.9 2-2V5c0-1.1-.9-2-2-2zM9 17H7v-7h2v7zm4 0h-2V7h2v10zm4 0h-2v-4h2v4z\"/>\n",
              "    </g>\n",
              "</svg>\n",
              "  </button>\n",
              "\n",
              "<style>\n",
              "  .colab-df-quickchart {\n",
              "      --bg-color: #E8F0FE;\n",
              "      --fill-color: #1967D2;\n",
              "      --hover-bg-color: #E2EBFA;\n",
              "      --hover-fill-color: #174EA6;\n",
              "      --disabled-fill-color: #AAA;\n",
              "      --disabled-bg-color: #DDD;\n",
              "  }\n",
              "\n",
              "  [theme=dark] .colab-df-quickchart {\n",
              "      --bg-color: #3B4455;\n",
              "      --fill-color: #D2E3FC;\n",
              "      --hover-bg-color: #434B5C;\n",
              "      --hover-fill-color: #FFFFFF;\n",
              "      --disabled-bg-color: #3B4455;\n",
              "      --disabled-fill-color: #666;\n",
              "  }\n",
              "\n",
              "  .colab-df-quickchart {\n",
              "    background-color: var(--bg-color);\n",
              "    border: none;\n",
              "    border-radius: 50%;\n",
              "    cursor: pointer;\n",
              "    display: none;\n",
              "    fill: var(--fill-color);\n",
              "    height: 32px;\n",
              "    padding: 0;\n",
              "    width: 32px;\n",
              "  }\n",
              "\n",
              "  .colab-df-quickchart:hover {\n",
              "    background-color: var(--hover-bg-color);\n",
              "    box-shadow: 0 1px 2px rgba(60, 64, 67, 0.3), 0 1px 3px 1px rgba(60, 64, 67, 0.15);\n",
              "    fill: var(--button-hover-fill-color);\n",
              "  }\n",
              "\n",
              "  .colab-df-quickchart-complete:disabled,\n",
              "  .colab-df-quickchart-complete:disabled:hover {\n",
              "    background-color: var(--disabled-bg-color);\n",
              "    fill: var(--disabled-fill-color);\n",
              "    box-shadow: none;\n",
              "  }\n",
              "\n",
              "  .colab-df-spinner {\n",
              "    border: 2px solid var(--fill-color);\n",
              "    border-color: transparent;\n",
              "    border-bottom-color: var(--fill-color);\n",
              "    animation:\n",
              "      spin 1s steps(1) infinite;\n",
              "  }\n",
              "\n",
              "  @keyframes spin {\n",
              "    0% {\n",
              "      border-color: transparent;\n",
              "      border-bottom-color: var(--fill-color);\n",
              "      border-left-color: var(--fill-color);\n",
              "    }\n",
              "    20% {\n",
              "      border-color: transparent;\n",
              "      border-left-color: var(--fill-color);\n",
              "      border-top-color: var(--fill-color);\n",
              "    }\n",
              "    30% {\n",
              "      border-color: transparent;\n",
              "      border-left-color: var(--fill-color);\n",
              "      border-top-color: var(--fill-color);\n",
              "      border-right-color: var(--fill-color);\n",
              "    }\n",
              "    40% {\n",
              "      border-color: transparent;\n",
              "      border-right-color: var(--fill-color);\n",
              "      border-top-color: var(--fill-color);\n",
              "    }\n",
              "    60% {\n",
              "      border-color: transparent;\n",
              "      border-right-color: var(--fill-color);\n",
              "    }\n",
              "    80% {\n",
              "      border-color: transparent;\n",
              "      border-right-color: var(--fill-color);\n",
              "      border-bottom-color: var(--fill-color);\n",
              "    }\n",
              "    90% {\n",
              "      border-color: transparent;\n",
              "      border-bottom-color: var(--fill-color);\n",
              "    }\n",
              "  }\n",
              "</style>\n",
              "\n",
              "  <script>\n",
              "    async function quickchart(key) {\n",
              "      const quickchartButtonEl =\n",
              "        document.querySelector('#' + key + ' button');\n",
              "      quickchartButtonEl.disabled = true;  // To prevent multiple clicks.\n",
              "      quickchartButtonEl.classList.add('colab-df-spinner');\n",
              "      try {\n",
              "        const charts = await google.colab.kernel.invokeFunction(\n",
              "            'suggestCharts', [key], {});\n",
              "      } catch (error) {\n",
              "        console.error('Error during call to suggestCharts:', error);\n",
              "      }\n",
              "      quickchartButtonEl.classList.remove('colab-df-spinner');\n",
              "      quickchartButtonEl.classList.add('colab-df-quickchart-complete');\n",
              "    }\n",
              "    (() => {\n",
              "      let quickchartButtonEl =\n",
              "        document.querySelector('#df-4abd1319-5832-4fd6-8ec4-a0c2bcc7abda button');\n",
              "      quickchartButtonEl.style.display =\n",
              "        google.colab.kernel.accessAllowed ? 'block' : 'none';\n",
              "    })();\n",
              "  </script>\n",
              "</div>\n",
              "\n",
              "    </div>\n",
              "  </div>\n"
            ],
            "application/vnd.google.colaboratory.intrinsic+json": {
              "type": "dataframe"
            }
          },
          "metadata": {},
          "execution_count": 268
        }
      ]
    },
    {
      "cell_type": "code",
      "source": [
        "df.sample()"
      ],
      "metadata": {
        "colab": {
          "base_uri": "https://localhost:8080/",
          "height": 147
        },
        "id": "CVHjLeP6Zhgv",
        "outputId": "22575204-6e4d-49d5-9494-f8ea42379433"
      },
      "id": "CVHjLeP6Zhgv",
      "execution_count": 269,
      "outputs": [
        {
          "output_type": "execute_result",
          "data": {
            "text/plain": [
              "           Time Day_of_week Age_band_of_driver Sex_of_driver  \\\n",
              "10417  10:30:00      Monday            Over 51          Male   \n",
              "\n",
              "       Educational_level Vehicle_driver_relation Driving_experience  \\\n",
              "10417  Above high school                   Owner              1-2yr   \n",
              "\n",
              "      Type_of_vehicle Owner_of_vehicle Service_year_of_vehicle  ...  \\\n",
              "10417      Long lorry              NaN                     NaN  ...   \n",
              "\n",
              "      Vehicle_movement   Casualty_class Sex_of_casualty Age_band_of_casualty  \\\n",
              "10417              NaN  Driver or rider            Male             Under 18   \n",
              "\n",
              "      Casualty_severity Work_of_casuality Fitness_of_casuality  \\\n",
              "10417                 3             Other               Normal   \n",
              "\n",
              "      Pedestrian_movement          Cause_of_accident Accident_severity  \n",
              "10417    Not a Pedestrian  Changing lane to the left    Serious Injury  \n",
              "\n",
              "[1 rows x 32 columns]"
            ],
            "text/html": [
              "\n",
              "  <div id=\"df-290abe77-cad5-4e30-bed5-bc6e4a731964\" class=\"colab-df-container\">\n",
              "    <div>\n",
              "<style scoped>\n",
              "    .dataframe tbody tr th:only-of-type {\n",
              "        vertical-align: middle;\n",
              "    }\n",
              "\n",
              "    .dataframe tbody tr th {\n",
              "        vertical-align: top;\n",
              "    }\n",
              "\n",
              "    .dataframe thead th {\n",
              "        text-align: right;\n",
              "    }\n",
              "</style>\n",
              "<table border=\"1\" class=\"dataframe\">\n",
              "  <thead>\n",
              "    <tr style=\"text-align: right;\">\n",
              "      <th></th>\n",
              "      <th>Time</th>\n",
              "      <th>Day_of_week</th>\n",
              "      <th>Age_band_of_driver</th>\n",
              "      <th>Sex_of_driver</th>\n",
              "      <th>Educational_level</th>\n",
              "      <th>Vehicle_driver_relation</th>\n",
              "      <th>Driving_experience</th>\n",
              "      <th>Type_of_vehicle</th>\n",
              "      <th>Owner_of_vehicle</th>\n",
              "      <th>Service_year_of_vehicle</th>\n",
              "      <th>...</th>\n",
              "      <th>Vehicle_movement</th>\n",
              "      <th>Casualty_class</th>\n",
              "      <th>Sex_of_casualty</th>\n",
              "      <th>Age_band_of_casualty</th>\n",
              "      <th>Casualty_severity</th>\n",
              "      <th>Work_of_casuality</th>\n",
              "      <th>Fitness_of_casuality</th>\n",
              "      <th>Pedestrian_movement</th>\n",
              "      <th>Cause_of_accident</th>\n",
              "      <th>Accident_severity</th>\n",
              "    </tr>\n",
              "  </thead>\n",
              "  <tbody>\n",
              "    <tr>\n",
              "      <th>10417</th>\n",
              "      <td>10:30:00</td>\n",
              "      <td>Monday</td>\n",
              "      <td>Over 51</td>\n",
              "      <td>Male</td>\n",
              "      <td>Above high school</td>\n",
              "      <td>Owner</td>\n",
              "      <td>1-2yr</td>\n",
              "      <td>Long lorry</td>\n",
              "      <td>NaN</td>\n",
              "      <td>NaN</td>\n",
              "      <td>...</td>\n",
              "      <td>NaN</td>\n",
              "      <td>Driver or rider</td>\n",
              "      <td>Male</td>\n",
              "      <td>Under 18</td>\n",
              "      <td>3</td>\n",
              "      <td>Other</td>\n",
              "      <td>Normal</td>\n",
              "      <td>Not a Pedestrian</td>\n",
              "      <td>Changing lane to the left</td>\n",
              "      <td>Serious Injury</td>\n",
              "    </tr>\n",
              "  </tbody>\n",
              "</table>\n",
              "<p>1 rows × 32 columns</p>\n",
              "</div>\n",
              "    <div class=\"colab-df-buttons\">\n",
              "\n",
              "  <div class=\"colab-df-container\">\n",
              "    <button class=\"colab-df-convert\" onclick=\"convertToInteractive('df-290abe77-cad5-4e30-bed5-bc6e4a731964')\"\n",
              "            title=\"Convert this dataframe to an interactive table.\"\n",
              "            style=\"display:none;\">\n",
              "\n",
              "  <svg xmlns=\"http://www.w3.org/2000/svg\" height=\"24px\" viewBox=\"0 -960 960 960\">\n",
              "    <path d=\"M120-120v-720h720v720H120Zm60-500h600v-160H180v160Zm220 220h160v-160H400v160Zm0 220h160v-160H400v160ZM180-400h160v-160H180v160Zm440 0h160v-160H620v160ZM180-180h160v-160H180v160Zm440 0h160v-160H620v160Z\"/>\n",
              "  </svg>\n",
              "    </button>\n",
              "\n",
              "  <style>\n",
              "    .colab-df-container {\n",
              "      display:flex;\n",
              "      gap: 12px;\n",
              "    }\n",
              "\n",
              "    .colab-df-convert {\n",
              "      background-color: #E8F0FE;\n",
              "      border: none;\n",
              "      border-radius: 50%;\n",
              "      cursor: pointer;\n",
              "      display: none;\n",
              "      fill: #1967D2;\n",
              "      height: 32px;\n",
              "      padding: 0 0 0 0;\n",
              "      width: 32px;\n",
              "    }\n",
              "\n",
              "    .colab-df-convert:hover {\n",
              "      background-color: #E2EBFA;\n",
              "      box-shadow: 0px 1px 2px rgba(60, 64, 67, 0.3), 0px 1px 3px 1px rgba(60, 64, 67, 0.15);\n",
              "      fill: #174EA6;\n",
              "    }\n",
              "\n",
              "    .colab-df-buttons div {\n",
              "      margin-bottom: 4px;\n",
              "    }\n",
              "\n",
              "    [theme=dark] .colab-df-convert {\n",
              "      background-color: #3B4455;\n",
              "      fill: #D2E3FC;\n",
              "    }\n",
              "\n",
              "    [theme=dark] .colab-df-convert:hover {\n",
              "      background-color: #434B5C;\n",
              "      box-shadow: 0px 1px 3px 1px rgba(0, 0, 0, 0.15);\n",
              "      filter: drop-shadow(0px 1px 2px rgba(0, 0, 0, 0.3));\n",
              "      fill: #FFFFFF;\n",
              "    }\n",
              "  </style>\n",
              "\n",
              "    <script>\n",
              "      const buttonEl =\n",
              "        document.querySelector('#df-290abe77-cad5-4e30-bed5-bc6e4a731964 button.colab-df-convert');\n",
              "      buttonEl.style.display =\n",
              "        google.colab.kernel.accessAllowed ? 'block' : 'none';\n",
              "\n",
              "      async function convertToInteractive(key) {\n",
              "        const element = document.querySelector('#df-290abe77-cad5-4e30-bed5-bc6e4a731964');\n",
              "        const dataTable =\n",
              "          await google.colab.kernel.invokeFunction('convertToInteractive',\n",
              "                                                    [key], {});\n",
              "        if (!dataTable) return;\n",
              "\n",
              "        const docLinkHtml = 'Like what you see? Visit the ' +\n",
              "          '<a target=\"_blank\" href=https://colab.research.google.com/notebooks/data_table.ipynb>data table notebook</a>'\n",
              "          + ' to learn more about interactive tables.';\n",
              "        element.innerHTML = '';\n",
              "        dataTable['output_type'] = 'display_data';\n",
              "        await google.colab.output.renderOutput(dataTable, element);\n",
              "        const docLink = document.createElement('div');\n",
              "        docLink.innerHTML = docLinkHtml;\n",
              "        element.appendChild(docLink);\n",
              "      }\n",
              "    </script>\n",
              "  </div>\n",
              "\n",
              "\n",
              "    </div>\n",
              "  </div>\n"
            ],
            "application/vnd.google.colaboratory.intrinsic+json": {
              "type": "dataframe"
            }
          },
          "metadata": {},
          "execution_count": 269
        }
      ]
    },
    {
      "cell_type": "code",
      "source": [
        "df.describe()"
      ],
      "metadata": {
        "colab": {
          "base_uri": "https://localhost:8080/",
          "height": 300
        },
        "id": "PNwARQa0Zmzd",
        "outputId": "5dfd1015-e0ba-416d-f4a2-41cf2d8fd694"
      },
      "id": "PNwARQa0Zmzd",
      "execution_count": 270,
      "outputs": [
        {
          "output_type": "execute_result",
          "data": {
            "text/plain": [
              "       Number_of_vehicles_involved  Number_of_casualties\n",
              "count                 12316.000000          12316.000000\n",
              "mean                      2.040679              1.548149\n",
              "std                       0.688790              1.007179\n",
              "min                       1.000000              1.000000\n",
              "25%                       2.000000              1.000000\n",
              "50%                       2.000000              1.000000\n",
              "75%                       2.000000              2.000000\n",
              "max                       7.000000              8.000000"
            ],
            "text/html": [
              "\n",
              "  <div id=\"df-c1c49713-721d-4ecc-b86c-53f1dd869b79\" class=\"colab-df-container\">\n",
              "    <div>\n",
              "<style scoped>\n",
              "    .dataframe tbody tr th:only-of-type {\n",
              "        vertical-align: middle;\n",
              "    }\n",
              "\n",
              "    .dataframe tbody tr th {\n",
              "        vertical-align: top;\n",
              "    }\n",
              "\n",
              "    .dataframe thead th {\n",
              "        text-align: right;\n",
              "    }\n",
              "</style>\n",
              "<table border=\"1\" class=\"dataframe\">\n",
              "  <thead>\n",
              "    <tr style=\"text-align: right;\">\n",
              "      <th></th>\n",
              "      <th>Number_of_vehicles_involved</th>\n",
              "      <th>Number_of_casualties</th>\n",
              "    </tr>\n",
              "  </thead>\n",
              "  <tbody>\n",
              "    <tr>\n",
              "      <th>count</th>\n",
              "      <td>12316.000000</td>\n",
              "      <td>12316.000000</td>\n",
              "    </tr>\n",
              "    <tr>\n",
              "      <th>mean</th>\n",
              "      <td>2.040679</td>\n",
              "      <td>1.548149</td>\n",
              "    </tr>\n",
              "    <tr>\n",
              "      <th>std</th>\n",
              "      <td>0.688790</td>\n",
              "      <td>1.007179</td>\n",
              "    </tr>\n",
              "    <tr>\n",
              "      <th>min</th>\n",
              "      <td>1.000000</td>\n",
              "      <td>1.000000</td>\n",
              "    </tr>\n",
              "    <tr>\n",
              "      <th>25%</th>\n",
              "      <td>2.000000</td>\n",
              "      <td>1.000000</td>\n",
              "    </tr>\n",
              "    <tr>\n",
              "      <th>50%</th>\n",
              "      <td>2.000000</td>\n",
              "      <td>1.000000</td>\n",
              "    </tr>\n",
              "    <tr>\n",
              "      <th>75%</th>\n",
              "      <td>2.000000</td>\n",
              "      <td>2.000000</td>\n",
              "    </tr>\n",
              "    <tr>\n",
              "      <th>max</th>\n",
              "      <td>7.000000</td>\n",
              "      <td>8.000000</td>\n",
              "    </tr>\n",
              "  </tbody>\n",
              "</table>\n",
              "</div>\n",
              "    <div class=\"colab-df-buttons\">\n",
              "\n",
              "  <div class=\"colab-df-container\">\n",
              "    <button class=\"colab-df-convert\" onclick=\"convertToInteractive('df-c1c49713-721d-4ecc-b86c-53f1dd869b79')\"\n",
              "            title=\"Convert this dataframe to an interactive table.\"\n",
              "            style=\"display:none;\">\n",
              "\n",
              "  <svg xmlns=\"http://www.w3.org/2000/svg\" height=\"24px\" viewBox=\"0 -960 960 960\">\n",
              "    <path d=\"M120-120v-720h720v720H120Zm60-500h600v-160H180v160Zm220 220h160v-160H400v160Zm0 220h160v-160H400v160ZM180-400h160v-160H180v160Zm440 0h160v-160H620v160ZM180-180h160v-160H180v160Zm440 0h160v-160H620v160Z\"/>\n",
              "  </svg>\n",
              "    </button>\n",
              "\n",
              "  <style>\n",
              "    .colab-df-container {\n",
              "      display:flex;\n",
              "      gap: 12px;\n",
              "    }\n",
              "\n",
              "    .colab-df-convert {\n",
              "      background-color: #E8F0FE;\n",
              "      border: none;\n",
              "      border-radius: 50%;\n",
              "      cursor: pointer;\n",
              "      display: none;\n",
              "      fill: #1967D2;\n",
              "      height: 32px;\n",
              "      padding: 0 0 0 0;\n",
              "      width: 32px;\n",
              "    }\n",
              "\n",
              "    .colab-df-convert:hover {\n",
              "      background-color: #E2EBFA;\n",
              "      box-shadow: 0px 1px 2px rgba(60, 64, 67, 0.3), 0px 1px 3px 1px rgba(60, 64, 67, 0.15);\n",
              "      fill: #174EA6;\n",
              "    }\n",
              "\n",
              "    .colab-df-buttons div {\n",
              "      margin-bottom: 4px;\n",
              "    }\n",
              "\n",
              "    [theme=dark] .colab-df-convert {\n",
              "      background-color: #3B4455;\n",
              "      fill: #D2E3FC;\n",
              "    }\n",
              "\n",
              "    [theme=dark] .colab-df-convert:hover {\n",
              "      background-color: #434B5C;\n",
              "      box-shadow: 0px 1px 3px 1px rgba(0, 0, 0, 0.15);\n",
              "      filter: drop-shadow(0px 1px 2px rgba(0, 0, 0, 0.3));\n",
              "      fill: #FFFFFF;\n",
              "    }\n",
              "  </style>\n",
              "\n",
              "    <script>\n",
              "      const buttonEl =\n",
              "        document.querySelector('#df-c1c49713-721d-4ecc-b86c-53f1dd869b79 button.colab-df-convert');\n",
              "      buttonEl.style.display =\n",
              "        google.colab.kernel.accessAllowed ? 'block' : 'none';\n",
              "\n",
              "      async function convertToInteractive(key) {\n",
              "        const element = document.querySelector('#df-c1c49713-721d-4ecc-b86c-53f1dd869b79');\n",
              "        const dataTable =\n",
              "          await google.colab.kernel.invokeFunction('convertToInteractive',\n",
              "                                                    [key], {});\n",
              "        if (!dataTable) return;\n",
              "\n",
              "        const docLinkHtml = 'Like what you see? Visit the ' +\n",
              "          '<a target=\"_blank\" href=https://colab.research.google.com/notebooks/data_table.ipynb>data table notebook</a>'\n",
              "          + ' to learn more about interactive tables.';\n",
              "        element.innerHTML = '';\n",
              "        dataTable['output_type'] = 'display_data';\n",
              "        await google.colab.output.renderOutput(dataTable, element);\n",
              "        const docLink = document.createElement('div');\n",
              "        docLink.innerHTML = docLinkHtml;\n",
              "        element.appendChild(docLink);\n",
              "      }\n",
              "    </script>\n",
              "  </div>\n",
              "\n",
              "\n",
              "<div id=\"df-b6e61365-532c-4b73-9db8-2c801055f10f\">\n",
              "  <button class=\"colab-df-quickchart\" onclick=\"quickchart('df-b6e61365-532c-4b73-9db8-2c801055f10f')\"\n",
              "            title=\"Suggest charts\"\n",
              "            style=\"display:none;\">\n",
              "\n",
              "<svg xmlns=\"http://www.w3.org/2000/svg\" height=\"24px\"viewBox=\"0 0 24 24\"\n",
              "     width=\"24px\">\n",
              "    <g>\n",
              "        <path d=\"M19 3H5c-1.1 0-2 .9-2 2v14c0 1.1.9 2 2 2h14c1.1 0 2-.9 2-2V5c0-1.1-.9-2-2-2zM9 17H7v-7h2v7zm4 0h-2V7h2v10zm4 0h-2v-4h2v4z\"/>\n",
              "    </g>\n",
              "</svg>\n",
              "  </button>\n",
              "\n",
              "<style>\n",
              "  .colab-df-quickchart {\n",
              "      --bg-color: #E8F0FE;\n",
              "      --fill-color: #1967D2;\n",
              "      --hover-bg-color: #E2EBFA;\n",
              "      --hover-fill-color: #174EA6;\n",
              "      --disabled-fill-color: #AAA;\n",
              "      --disabled-bg-color: #DDD;\n",
              "  }\n",
              "\n",
              "  [theme=dark] .colab-df-quickchart {\n",
              "      --bg-color: #3B4455;\n",
              "      --fill-color: #D2E3FC;\n",
              "      --hover-bg-color: #434B5C;\n",
              "      --hover-fill-color: #FFFFFF;\n",
              "      --disabled-bg-color: #3B4455;\n",
              "      --disabled-fill-color: #666;\n",
              "  }\n",
              "\n",
              "  .colab-df-quickchart {\n",
              "    background-color: var(--bg-color);\n",
              "    border: none;\n",
              "    border-radius: 50%;\n",
              "    cursor: pointer;\n",
              "    display: none;\n",
              "    fill: var(--fill-color);\n",
              "    height: 32px;\n",
              "    padding: 0;\n",
              "    width: 32px;\n",
              "  }\n",
              "\n",
              "  .colab-df-quickchart:hover {\n",
              "    background-color: var(--hover-bg-color);\n",
              "    box-shadow: 0 1px 2px rgba(60, 64, 67, 0.3), 0 1px 3px 1px rgba(60, 64, 67, 0.15);\n",
              "    fill: var(--button-hover-fill-color);\n",
              "  }\n",
              "\n",
              "  .colab-df-quickchart-complete:disabled,\n",
              "  .colab-df-quickchart-complete:disabled:hover {\n",
              "    background-color: var(--disabled-bg-color);\n",
              "    fill: var(--disabled-fill-color);\n",
              "    box-shadow: none;\n",
              "  }\n",
              "\n",
              "  .colab-df-spinner {\n",
              "    border: 2px solid var(--fill-color);\n",
              "    border-color: transparent;\n",
              "    border-bottom-color: var(--fill-color);\n",
              "    animation:\n",
              "      spin 1s steps(1) infinite;\n",
              "  }\n",
              "\n",
              "  @keyframes spin {\n",
              "    0% {\n",
              "      border-color: transparent;\n",
              "      border-bottom-color: var(--fill-color);\n",
              "      border-left-color: var(--fill-color);\n",
              "    }\n",
              "    20% {\n",
              "      border-color: transparent;\n",
              "      border-left-color: var(--fill-color);\n",
              "      border-top-color: var(--fill-color);\n",
              "    }\n",
              "    30% {\n",
              "      border-color: transparent;\n",
              "      border-left-color: var(--fill-color);\n",
              "      border-top-color: var(--fill-color);\n",
              "      border-right-color: var(--fill-color);\n",
              "    }\n",
              "    40% {\n",
              "      border-color: transparent;\n",
              "      border-right-color: var(--fill-color);\n",
              "      border-top-color: var(--fill-color);\n",
              "    }\n",
              "    60% {\n",
              "      border-color: transparent;\n",
              "      border-right-color: var(--fill-color);\n",
              "    }\n",
              "    80% {\n",
              "      border-color: transparent;\n",
              "      border-right-color: var(--fill-color);\n",
              "      border-bottom-color: var(--fill-color);\n",
              "    }\n",
              "    90% {\n",
              "      border-color: transparent;\n",
              "      border-bottom-color: var(--fill-color);\n",
              "    }\n",
              "  }\n",
              "</style>\n",
              "\n",
              "  <script>\n",
              "    async function quickchart(key) {\n",
              "      const quickchartButtonEl =\n",
              "        document.querySelector('#' + key + ' button');\n",
              "      quickchartButtonEl.disabled = true;  // To prevent multiple clicks.\n",
              "      quickchartButtonEl.classList.add('colab-df-spinner');\n",
              "      try {\n",
              "        const charts = await google.colab.kernel.invokeFunction(\n",
              "            'suggestCharts', [key], {});\n",
              "      } catch (error) {\n",
              "        console.error('Error during call to suggestCharts:', error);\n",
              "      }\n",
              "      quickchartButtonEl.classList.remove('colab-df-spinner');\n",
              "      quickchartButtonEl.classList.add('colab-df-quickchart-complete');\n",
              "    }\n",
              "    (() => {\n",
              "      let quickchartButtonEl =\n",
              "        document.querySelector('#df-b6e61365-532c-4b73-9db8-2c801055f10f button');\n",
              "      quickchartButtonEl.style.display =\n",
              "        google.colab.kernel.accessAllowed ? 'block' : 'none';\n",
              "    })();\n",
              "  </script>\n",
              "</div>\n",
              "\n",
              "    </div>\n",
              "  </div>\n"
            ],
            "application/vnd.google.colaboratory.intrinsic+json": {
              "type": "dataframe",
              "summary": "{\n  \"name\": \"df\",\n  \"rows\": 8,\n  \"fields\": [\n    {\n      \"column\": \"Number_of_vehicles_involved\",\n      \"properties\": {\n        \"dtype\": \"number\",\n        \"std\": 4353.519030149126,\n        \"min\": 0.6887896452620738,\n        \"max\": 12316.0,\n        \"num_unique_values\": 6,\n        \"samples\": [\n          12316.0,\n          2.0406787918155245,\n          7.0\n        ],\n        \"semantic_type\": \"\",\n        \"description\": \"\"\n      }\n    },\n    {\n      \"column\": \"Number_of_casualties\",\n      \"properties\": {\n        \"dtype\": \"number\",\n        \"std\": 4353.578549582754,\n        \"min\": 1.0,\n        \"max\": 12316.0,\n        \"num_unique_values\": 6,\n        \"samples\": [\n          12316.0,\n          1.548148749594024,\n          8.0\n        ],\n        \"semantic_type\": \"\",\n        \"description\": \"\"\n      }\n    }\n  ]\n}"
            }
          },
          "metadata": {},
          "execution_count": 270
        }
      ]
    },
    {
      "cell_type": "code",
      "source": [
        "df.duplicated().sum()"
      ],
      "metadata": {
        "colab": {
          "base_uri": "https://localhost:8080/"
        },
        "id": "ElodChEgZtPi",
        "outputId": "e471ecdf-d0c4-4d60-8088-167c9e0da058"
      },
      "id": "ElodChEgZtPi",
      "execution_count": 271,
      "outputs": [
        {
          "output_type": "execute_result",
          "data": {
            "text/plain": [
              "0"
            ]
          },
          "metadata": {},
          "execution_count": 271
        }
      ]
    },
    {
      "cell_type": "code",
      "source": [
        "df.isnull().sum()"
      ],
      "metadata": {
        "colab": {
          "base_uri": "https://localhost:8080/",
          "height": 1000
        },
        "id": "ALsYoKoxZytK",
        "outputId": "7bbb07db-2ade-4eaf-a293-ee2ad2f1eaca"
      },
      "id": "ALsYoKoxZytK",
      "execution_count": 272,
      "outputs": [
        {
          "output_type": "execute_result",
          "data": {
            "text/plain": [
              "Time                              0\n",
              "Day_of_week                       0\n",
              "Age_band_of_driver                0\n",
              "Sex_of_driver                     0\n",
              "Educational_level               741\n",
              "Vehicle_driver_relation         579\n",
              "Driving_experience              829\n",
              "Type_of_vehicle                 950\n",
              "Owner_of_vehicle                482\n",
              "Service_year_of_vehicle        3928\n",
              "Defect_of_vehicle              4427\n",
              "Area_accident_occured           239\n",
              "Lanes_or_Medians                385\n",
              "Road_allignment                 142\n",
              "Types_of_Junction               887\n",
              "Road_surface_type               172\n",
              "Road_surface_conditions           0\n",
              "Light_conditions                  0\n",
              "Weather_conditions                0\n",
              "Type_of_collision               155\n",
              "Number_of_vehicles_involved       0\n",
              "Number_of_casualties              0\n",
              "Vehicle_movement                308\n",
              "Casualty_class                    0\n",
              "Sex_of_casualty                   0\n",
              "Age_band_of_casualty              0\n",
              "Casualty_severity                 0\n",
              "Work_of_casuality              3198\n",
              "Fitness_of_casuality           2635\n",
              "Pedestrian_movement               0\n",
              "Cause_of_accident                 0\n",
              "Accident_severity                 0\n",
              "dtype: int64"
            ],
            "text/html": [
              "<table border=\"1\" class=\"dataframe\">\n",
              "  <thead>\n",
              "    <tr style=\"text-align: right;\">\n",
              "      <th></th>\n",
              "      <th>0</th>\n",
              "    </tr>\n",
              "  </thead>\n",
              "  <tbody>\n",
              "    <tr>\n",
              "      <th>Time</th>\n",
              "      <td>0</td>\n",
              "    </tr>\n",
              "    <tr>\n",
              "      <th>Day_of_week</th>\n",
              "      <td>0</td>\n",
              "    </tr>\n",
              "    <tr>\n",
              "      <th>Age_band_of_driver</th>\n",
              "      <td>0</td>\n",
              "    </tr>\n",
              "    <tr>\n",
              "      <th>Sex_of_driver</th>\n",
              "      <td>0</td>\n",
              "    </tr>\n",
              "    <tr>\n",
              "      <th>Educational_level</th>\n",
              "      <td>741</td>\n",
              "    </tr>\n",
              "    <tr>\n",
              "      <th>Vehicle_driver_relation</th>\n",
              "      <td>579</td>\n",
              "    </tr>\n",
              "    <tr>\n",
              "      <th>Driving_experience</th>\n",
              "      <td>829</td>\n",
              "    </tr>\n",
              "    <tr>\n",
              "      <th>Type_of_vehicle</th>\n",
              "      <td>950</td>\n",
              "    </tr>\n",
              "    <tr>\n",
              "      <th>Owner_of_vehicle</th>\n",
              "      <td>482</td>\n",
              "    </tr>\n",
              "    <tr>\n",
              "      <th>Service_year_of_vehicle</th>\n",
              "      <td>3928</td>\n",
              "    </tr>\n",
              "    <tr>\n",
              "      <th>Defect_of_vehicle</th>\n",
              "      <td>4427</td>\n",
              "    </tr>\n",
              "    <tr>\n",
              "      <th>Area_accident_occured</th>\n",
              "      <td>239</td>\n",
              "    </tr>\n",
              "    <tr>\n",
              "      <th>Lanes_or_Medians</th>\n",
              "      <td>385</td>\n",
              "    </tr>\n",
              "    <tr>\n",
              "      <th>Road_allignment</th>\n",
              "      <td>142</td>\n",
              "    </tr>\n",
              "    <tr>\n",
              "      <th>Types_of_Junction</th>\n",
              "      <td>887</td>\n",
              "    </tr>\n",
              "    <tr>\n",
              "      <th>Road_surface_type</th>\n",
              "      <td>172</td>\n",
              "    </tr>\n",
              "    <tr>\n",
              "      <th>Road_surface_conditions</th>\n",
              "      <td>0</td>\n",
              "    </tr>\n",
              "    <tr>\n",
              "      <th>Light_conditions</th>\n",
              "      <td>0</td>\n",
              "    </tr>\n",
              "    <tr>\n",
              "      <th>Weather_conditions</th>\n",
              "      <td>0</td>\n",
              "    </tr>\n",
              "    <tr>\n",
              "      <th>Type_of_collision</th>\n",
              "      <td>155</td>\n",
              "    </tr>\n",
              "    <tr>\n",
              "      <th>Number_of_vehicles_involved</th>\n",
              "      <td>0</td>\n",
              "    </tr>\n",
              "    <tr>\n",
              "      <th>Number_of_casualties</th>\n",
              "      <td>0</td>\n",
              "    </tr>\n",
              "    <tr>\n",
              "      <th>Vehicle_movement</th>\n",
              "      <td>308</td>\n",
              "    </tr>\n",
              "    <tr>\n",
              "      <th>Casualty_class</th>\n",
              "      <td>0</td>\n",
              "    </tr>\n",
              "    <tr>\n",
              "      <th>Sex_of_casualty</th>\n",
              "      <td>0</td>\n",
              "    </tr>\n",
              "    <tr>\n",
              "      <th>Age_band_of_casualty</th>\n",
              "      <td>0</td>\n",
              "    </tr>\n",
              "    <tr>\n",
              "      <th>Casualty_severity</th>\n",
              "      <td>0</td>\n",
              "    </tr>\n",
              "    <tr>\n",
              "      <th>Work_of_casuality</th>\n",
              "      <td>3198</td>\n",
              "    </tr>\n",
              "    <tr>\n",
              "      <th>Fitness_of_casuality</th>\n",
              "      <td>2635</td>\n",
              "    </tr>\n",
              "    <tr>\n",
              "      <th>Pedestrian_movement</th>\n",
              "      <td>0</td>\n",
              "    </tr>\n",
              "    <tr>\n",
              "      <th>Cause_of_accident</th>\n",
              "      <td>0</td>\n",
              "    </tr>\n",
              "    <tr>\n",
              "      <th>Accident_severity</th>\n",
              "      <td>0</td>\n",
              "    </tr>\n",
              "  </tbody>\n",
              "</table><br><label><b>dtype:</b> int64</label>"
            ]
          },
          "metadata": {},
          "execution_count": 272
        }
      ]
    },
    {
      "cell_type": "markdown",
      "id": "bccfb706",
      "metadata": {
        "id": "bccfb706"
      },
      "source": [
        "## Data Preprocessing\n",
        "Data preprocessing is essential for transforming raw data into a format suitable for further analysis and modeling. Follow these steps to ensure your data is ready for predictive modeling or advanced analytics:\n",
        "- **Handling Missing Values**: Replace missing values with appropriate statistics (mean, median, mode) or use more complex imputation techniques.\n",
        "- **Normalization/Scaling**: Scale data to a small, specified range like 0 to 1, or transform it to have a mean of zero and a standard deviation of one.\n",
        "- **Label Encoding**: Convert categorical text data into model-understandable numbers where the labels are ordered.\n",
        "- **One-Hot Encoding**: Use for nominal categorical data where no ordinal relationship exists to transform the data into a binary column for each category. (Be careful not to increase the dimensionality significantly)\n",
        "- **Detection and Treatment of Outliers**: Use statistical tests, box plots, or scatter plots to identify outliers and then cap, trim, or use robust methods to reduce the effect of outliers, depending on the context.\n",
        "- **Feature Engineering**: Enhance your dataset by creating new features and transforming existing ones. This might involve combining data from different columns, applying transformations, or reducing dimensionality with techniques like PCA to improve model performance.\n",
        "\n",
        "Consider these steps as a foundation, and feel free to introduce additional preprocessing techniques as needed to address specific characteristics of your dataset."
      ]
    },
    {
      "cell_type": "code",
      "execution_count": 273,
      "id": "14c4a6fd",
      "metadata": {
        "id": "14c4a6fd"
      },
      "outputs": [],
      "source": [
        "df[\"Educational_level\"].fillna(\"Other\" , inplace =True)"
      ]
    },
    {
      "cell_type": "code",
      "source": [
        "df[\"Vehicle_driver_relation\"].fillna(\"Other\" , inplace =True)"
      ],
      "metadata": {
        "id": "RLDcG7_fcop8"
      },
      "id": "RLDcG7_fcop8",
      "execution_count": 274,
      "outputs": []
    },
    {
      "cell_type": "code",
      "source": [
        "df[\"Area_accident_occured\"].fillna(\"Other\" , inplace =True)"
      ],
      "metadata": {
        "id": "BtXHXQvTsSxH"
      },
      "id": "BtXHXQvTsSxH",
      "execution_count": 275,
      "outputs": []
    },
    {
      "cell_type": "code",
      "source": [
        "print(df['Driving_experience'].unique())"
      ],
      "metadata": {
        "colab": {
          "base_uri": "https://localhost:8080/"
        },
        "id": "W4BaNsTq0oha",
        "outputId": "b8e16c2e-2b36-4237-d883-1bbea7224096"
      },
      "id": "W4BaNsTq0oha",
      "execution_count": 276,
      "outputs": [
        {
          "output_type": "stream",
          "name": "stdout",
          "text": [
            "['1-2yr' 'Above 10yr' '5-10yr' '2-5yr' nan 'No Licence' 'Below 1yr'\n",
            " 'unknown']\n"
          ]
        }
      ]
    },
    {
      "cell_type": "code",
      "source": [
        "df[\"Driving_experience\"].mode()"
      ],
      "metadata": {
        "colab": {
          "base_uri": "https://localhost:8080/",
          "height": 115
        },
        "id": "nLi-sNVmd5oj",
        "outputId": "61bb4983-d695-4fe9-ad21-4a96a52c7c98"
      },
      "id": "nLi-sNVmd5oj",
      "execution_count": 277,
      "outputs": [
        {
          "output_type": "execute_result",
          "data": {
            "text/plain": [
              "0    5-10yr\n",
              "Name: Driving_experience, dtype: object"
            ],
            "text/html": [
              "<table border=\"1\" class=\"dataframe\">\n",
              "  <thead>\n",
              "    <tr style=\"text-align: right;\">\n",
              "      <th></th>\n",
              "      <th>Driving_experience</th>\n",
              "    </tr>\n",
              "  </thead>\n",
              "  <tbody>\n",
              "    <tr>\n",
              "      <th>0</th>\n",
              "      <td>5-10yr</td>\n",
              "    </tr>\n",
              "  </tbody>\n",
              "</table><br><label><b>dtype:</b> object</label>"
            ]
          },
          "metadata": {},
          "execution_count": 277
        }
      ]
    },
    {
      "cell_type": "code",
      "source": [
        "most_frequent = df['Driving_experience'].mode()[0]\n",
        "df['Driving_experience'].fillna(most_frequent, inplace=True)"
      ],
      "metadata": {
        "id": "uAFKaVWs1yER"
      },
      "id": "uAFKaVWs1yER",
      "execution_count": 278,
      "outputs": []
    },
    {
      "cell_type": "code",
      "source": [
        "print(df['Type_of_vehicle'].unique())"
      ],
      "metadata": {
        "colab": {
          "base_uri": "https://localhost:8080/"
        },
        "id": "jSe81i6jh9zG",
        "outputId": "b333dc77-06fa-49b7-82cf-c4047524a7ae"
      },
      "id": "jSe81i6jh9zG",
      "execution_count": 279,
      "outputs": [
        {
          "output_type": "stream",
          "name": "stdout",
          "text": [
            "['Automobile' 'Public (> 45 seats)' 'Lorry (41?100Q)' nan\n",
            " 'Public (13?45 seats)' 'Lorry (11?40Q)' 'Long lorry' 'Public (12 seats)'\n",
            " 'Taxi' 'Pick up upto 10Q' 'Stationwagen' 'Ridden horse' 'Other' 'Bajaj'\n",
            " 'Turbo' 'Motorcycle' 'Special vehicle' 'Bicycle']\n"
          ]
        }
      ]
    },
    {
      "cell_type": "code",
      "source": [
        "Type_of_vehicle = ['Automobile', 'Public (> 45 seats)', 'Lorry', '-1',\n",
        "                   'Public (13?45 seats)', 'Lorry (11?40Q)', 'Long lorry',\n",
        "                   'Public (12 seats)', 'Taxi', 'Pick up upto 10Q',\n",
        "                   'Stationwagen', 'Ridden horse', 'Other', 'Bajaj',\n",
        "                   'Turbo', 'Motorcycle', 'Special vehicle', 'Bicycle']\n",
        "def clean_vehicle_name(name):\n",
        "    name = re.sub(r'[>\\?\\d-]', '', name)\n",
        "    name = name.strip()\n",
        "    return name"
      ],
      "metadata": {
        "id": "JeMTXayuiTYM"
      },
      "id": "JeMTXayuiTYM",
      "execution_count": 280,
      "outputs": []
    },
    {
      "cell_type": "code",
      "source": [
        "cleaned_Type_of_vehicle = [clean_vehicle_name(name) for name in Type_of_vehicle]"
      ],
      "metadata": {
        "id": "v4CKd0lricus"
      },
      "id": "v4CKd0lricus",
      "execution_count": 281,
      "outputs": []
    },
    {
      "cell_type": "code",
      "source": [
        "print(cleaned_Type_of_vehicle)"
      ],
      "metadata": {
        "colab": {
          "base_uri": "https://localhost:8080/"
        },
        "id": "ls4j85pEjZHF",
        "outputId": "abbf4797-94d4-4c13-9804-39439532eba0"
      },
      "id": "ls4j85pEjZHF",
      "execution_count": 282,
      "outputs": [
        {
          "output_type": "stream",
          "name": "stdout",
          "text": [
            "['Automobile', 'Public (  seats)', 'Lorry', '', 'Public ( seats)', 'Lorry (Q)', 'Long lorry', 'Public ( seats)', 'Taxi', 'Pick up upto Q', 'Stationwagen', 'Ridden horse', 'Other', 'Bajaj', 'Turbo', 'Motorcycle', 'Special vehicle', 'Bicycle']\n"
          ]
        }
      ]
    },
    {
      "cell_type": "code",
      "source": [
        "def clean_vehicle_name(name):\n",
        "    if pd.isnull(name) or name.strip() == '':\n",
        "        return 'Unknown'\n",
        "    name = name.strip()\n",
        "    if 'Public' in name:\n",
        "        return 'Public'\n",
        "    if 'Lorry' in name:\n",
        "        return 'Lorry'\n",
        "    if 'Pick up' in name:\n",
        "        return 'Pick up'\n",
        "    if 'Taxi' in name:\n",
        "        return 'Taxi'\n",
        "    if 'Stationwagen' in name:\n",
        "        return 'Stationwagen'\n",
        "    if 'Ridden horse' in name:\n",
        "        return 'Ridden horse'\n",
        "    if 'Bajaj' in name:\n",
        "        return 'Bajaj'\n",
        "    if 'Turbo' in name:\n",
        "        return 'Turbo'\n",
        "    if 'Motorcycle' in name:\n",
        "        return 'Motorcycle'\n",
        "    if 'Special vehicle' in name:\n",
        "        return 'Special vehicle'\n",
        "    if 'Bicycle' in name:\n",
        "        return 'Bicycle'\n",
        "    return 'Other'"
      ],
      "metadata": {
        "id": "NLCJTVAn2ZbW"
      },
      "id": "NLCJTVAn2ZbW",
      "execution_count": 283,
      "outputs": []
    },
    {
      "cell_type": "code",
      "source": [
        "df['Type_of_vehicle'] = df['Type_of_vehicle'].apply(clean_vehicle_name)"
      ],
      "metadata": {
        "id": "jCv2g77-2qaj"
      },
      "id": "jCv2g77-2qaj",
      "execution_count": 284,
      "outputs": []
    },
    {
      "cell_type": "code",
      "source": [
        "print(df['Owner_of_vehicle'].unique())"
      ],
      "metadata": {
        "colab": {
          "base_uri": "https://localhost:8080/"
        },
        "id": "rqgCDnPQ273n",
        "outputId": "a32da4fc-d5a0-4568-d44a-0ce543a0f2a4"
      },
      "id": "rqgCDnPQ273n",
      "execution_count": 285,
      "outputs": [
        {
          "output_type": "stream",
          "name": "stdout",
          "text": [
            "['Owner' 'Governmental' nan 'Organization' 'Other']\n"
          ]
        }
      ]
    },
    {
      "cell_type": "code",
      "source": [
        "df['Owner_of_vehicle'].fillna('Unknown', inplace=True)"
      ],
      "metadata": {
        "id": "vSeIUPak3eEj"
      },
      "id": "vSeIUPak3eEj",
      "execution_count": 286,
      "outputs": []
    },
    {
      "cell_type": "code",
      "source": [
        "print(df['Service_year_of_vehicle'].unique())"
      ],
      "metadata": {
        "colab": {
          "base_uri": "https://localhost:8080/"
        },
        "id": "qKLs68uhndYm",
        "outputId": "53a11afe-0155-4c55-d79c-a20dba3052f7"
      },
      "id": "qKLs68uhndYm",
      "execution_count": 287,
      "outputs": [
        {
          "output_type": "stream",
          "name": "stdout",
          "text": [
            "['Above 10yr' '5-10yrs' nan '1-2yr' '2-5yrs' 'Unknown' 'Below 1yr']\n"
          ]
        }
      ]
    },
    {
      "cell_type": "code",
      "source": [
        "def convert_to_number(value):\n",
        "    if pd.isnull(value):\n",
        "        return np.nan\n",
        "    if value == '-1':\n",
        "        return np.nan\n",
        "    elif value == '5-10yrs':\n",
        "        return 7.5\n",
        "    elif value == '1-2yr':\n",
        "        return 1.5\n",
        "    elif value == '2-5yrs':\n",
        "        return 3.5\n",
        "    elif value == 'Below 1yr':\n",
        "        return 0.5\n",
        "    elif value == 'Unknown':\n",
        "        return np.nan\n",
        "    else:\n",
        "        return np.nan"
      ],
      "metadata": {
        "id": "DWLiRzuDnr6m"
      },
      "id": "DWLiRzuDnr6m",
      "execution_count": 288,
      "outputs": []
    },
    {
      "cell_type": "code",
      "source": [
        "df['Service_year_of_vehicle'] = df['Service_year_of_vehicle'].map(convert_to_number)"
      ],
      "metadata": {
        "id": "iLCe9mW4n62m"
      },
      "id": "iLCe9mW4n62m",
      "execution_count": 289,
      "outputs": []
    },
    {
      "cell_type": "code",
      "source": [
        "mean_value = df['Service_year_of_vehicle'].mean()\n",
        "df['Service_year_of_vehicle'].fillna(mean_value, inplace=True)"
      ],
      "metadata": {
        "id": "q9yJgjVuoD1i"
      },
      "id": "q9yJgjVuoD1i",
      "execution_count": 290,
      "outputs": []
    },
    {
      "cell_type": "code",
      "source": [
        "print(df['Service_year_of_vehicle'].unique())"
      ],
      "metadata": {
        "colab": {
          "base_uri": "https://localhost:8080/"
        },
        "id": "rIC7xzkfoNMe",
        "outputId": "059b4f67-bed1-4879-bd00-f1ebb40bdeab"
      },
      "id": "rIC7xzkfoNMe",
      "execution_count": 291,
      "outputs": [
        {
          "output_type": "stream",
          "name": "stdout",
          "text": [
            "[4.12664434 7.5        1.5        3.5        0.5       ]\n"
          ]
        }
      ]
    },
    {
      "cell_type": "code",
      "source": [
        "print(df.columns)"
      ],
      "metadata": {
        "colab": {
          "base_uri": "https://localhost:8080/"
        },
        "id": "cVA_Teqyokaj",
        "outputId": "c8e7b1b0-c106-4a15-f028-957450d6de2e"
      },
      "id": "cVA_Teqyokaj",
      "execution_count": 292,
      "outputs": [
        {
          "output_type": "stream",
          "name": "stdout",
          "text": [
            "Index(['Time', 'Day_of_week', 'Age_band_of_driver', 'Sex_of_driver',\n",
            "       'Educational_level', 'Vehicle_driver_relation', 'Driving_experience',\n",
            "       'Type_of_vehicle', 'Owner_of_vehicle', 'Service_year_of_vehicle',\n",
            "       'Defect_of_vehicle', 'Area_accident_occured', 'Lanes_or_Medians',\n",
            "       'Road_allignment', 'Types_of_Junction', 'Road_surface_type',\n",
            "       'Road_surface_conditions', 'Light_conditions', 'Weather_conditions',\n",
            "       'Type_of_collision', 'Number_of_vehicles_involved',\n",
            "       'Number_of_casualties', 'Vehicle_movement', 'Casualty_class',\n",
            "       'Sex_of_casualty', 'Age_band_of_casualty', 'Casualty_severity',\n",
            "       'Work_of_casuality', 'Fitness_of_casuality', 'Pedestrian_movement',\n",
            "       'Cause_of_accident', 'Accident_severity'],\n",
            "      dtype='object')\n"
          ]
        }
      ]
    },
    {
      "cell_type": "code",
      "source": [
        "print(df['Defect_of_vehicle'].unique())"
      ],
      "metadata": {
        "colab": {
          "base_uri": "https://localhost:8080/"
        },
        "id": "4t2Wx0_c3rt6",
        "outputId": "3d55423a-0789-48ad-b59b-d06423810ba6"
      },
      "id": "4t2Wx0_c3rt6",
      "execution_count": 293,
      "outputs": [
        {
          "output_type": "stream",
          "name": "stdout",
          "text": [
            "['No defect' nan '7' '5']\n"
          ]
        }
      ]
    },
    {
      "cell_type": "code",
      "source": [
        "def map_defect(value):\n",
        "    if value == 'No defect':\n",
        "        return 0\n",
        "    elif value == '7':\n",
        "        return 7\n",
        "    elif value == '5':\n",
        "        return 5\n",
        "    else:\n",
        "        return np.nan"
      ],
      "metadata": {
        "id": "ft-NLZl64KPJ"
      },
      "id": "ft-NLZl64KPJ",
      "execution_count": 294,
      "outputs": []
    },
    {
      "cell_type": "code",
      "source": [
        "df['Defect_of_vehicle'] = df['Defect_of_vehicle'].map(map_defect)"
      ],
      "metadata": {
        "id": "E0IJ1iYm4V1J"
      },
      "id": "E0IJ1iYm4V1J",
      "execution_count": 295,
      "outputs": []
    },
    {
      "cell_type": "code",
      "source": [
        "df['Defect_of_vehicle'].fillna('Unknown', inplace=True)"
      ],
      "metadata": {
        "colab": {
          "base_uri": "https://localhost:8080/"
        },
        "id": "KdZ7jaFd4jv4",
        "outputId": "e52962cf-33ad-4e45-b780-662ddb10da19"
      },
      "id": "KdZ7jaFd4jv4",
      "execution_count": 296,
      "outputs": [
        {
          "output_type": "stream",
          "name": "stderr",
          "text": [
            "<ipython-input-296-e9166eab6170>:1: FutureWarning: Setting an item of incompatible dtype is deprecated and will raise in a future error of pandas. Value 'Unknown' has dtype incompatible with float64, please explicitly cast to a compatible dtype first.\n",
            "  df['Defect_of_vehicle'].fillna('Unknown', inplace=True)\n"
          ]
        }
      ]
    },
    {
      "cell_type": "code",
      "source": [
        "print(df['Defect_of_vehicle'].unique())"
      ],
      "metadata": {
        "colab": {
          "base_uri": "https://localhost:8080/"
        },
        "id": "O6MdqDfW4ZIV",
        "outputId": "5015591d-5b66-4b38-f52a-0ce63f06a61f"
      },
      "id": "O6MdqDfW4ZIV",
      "execution_count": 297,
      "outputs": [
        {
          "output_type": "stream",
          "name": "stdout",
          "text": [
            "[0.0 'Unknown' 7.0 5.0]\n"
          ]
        }
      ]
    },
    {
      "cell_type": "code",
      "source": [
        "print(df['Area_accident_occured'].unique())"
      ],
      "metadata": {
        "colab": {
          "base_uri": "https://localhost:8080/"
        },
        "id": "v2BvMMTarzY2",
        "outputId": "d1818c01-e3c6-4db8-c664-ad4a89b057d9"
      },
      "id": "v2BvMMTarzY2",
      "execution_count": 298,
      "outputs": [
        {
          "output_type": "stream",
          "name": "stdout",
          "text": [
            "['Residential areas' 'Office areas' '  Recreational areas'\n",
            " ' Industrial areas' 'Other' ' Church areas' '  Market areas' 'Unknown'\n",
            " 'Rural village areas' ' Outside rural areas' ' Hospital areas'\n",
            " 'School areas' 'Rural village areasOffice areas' 'Recreational areas']\n"
          ]
        }
      ]
    },
    {
      "cell_type": "code",
      "source": [
        "df['Area_accident_occured'] = df['Area_accident_occured'].str.strip()"
      ],
      "metadata": {
        "id": "7r0fnJrqtDF9"
      },
      "id": "7r0fnJrqtDF9",
      "execution_count": 299,
      "outputs": []
    },
    {
      "cell_type": "code",
      "source": [
        "df['Area_accident_occured'].replace({\n",
        "    'Residential areas': 'Residential areas',\n",
        "    'Office areas': 'Office areas',\n",
        "    'Recreational areas': 'Recreational areas',\n",
        "    'Industrial areas': 'Industrial areas',\n",
        "    'Church areas': 'Church areas',\n",
        "    'Market areas': 'Market areas',\n",
        "    'Unknown': 'Unknown',\n",
        "    'Rural village areas': 'Rural village areas',\n",
        "    'Outside rural areas': 'Outside rural areas',\n",
        "    'Hospital areas': 'Hospital areas',\n",
        "    'School areas': 'School areas',\n",
        "    'Rural village areasOffice areas': 'Rural village areas',\n",
        "    'Recreational areas': 'Recreational areas'}, inplace=True)"
      ],
      "metadata": {
        "id": "nRlROQK1tE-P"
      },
      "id": "nRlROQK1tE-P",
      "execution_count": 300,
      "outputs": []
    },
    {
      "cell_type": "code",
      "source": [
        "df['Area_accident_occured'].fillna('Unknown', inplace=True)"
      ],
      "metadata": {
        "id": "RpCTQAaRtbNw"
      },
      "id": "RpCTQAaRtbNw",
      "execution_count": 301,
      "outputs": []
    },
    {
      "cell_type": "code",
      "source": [
        "print(df['Area_accident_occured'].unique())"
      ],
      "metadata": {
        "colab": {
          "base_uri": "https://localhost:8080/"
        },
        "id": "gfEjJpQjtghy",
        "outputId": "3e36c024-f3b3-43ed-fbce-144a86e5c9cb"
      },
      "id": "gfEjJpQjtghy",
      "execution_count": 302,
      "outputs": [
        {
          "output_type": "stream",
          "name": "stdout",
          "text": [
            "['Residential areas' 'Office areas' 'Recreational areas'\n",
            " 'Industrial areas' 'Other' 'Church areas' 'Market areas' 'Unknown'\n",
            " 'Rural village areas' 'Outside rural areas' 'Hospital areas'\n",
            " 'School areas']\n"
          ]
        }
      ]
    },
    {
      "cell_type": "code",
      "source": [
        "print(df['Lanes_or_Medians'].unique())"
      ],
      "metadata": {
        "colab": {
          "base_uri": "https://localhost:8080/"
        },
        "id": "B54NAkhWt60B",
        "outputId": "504c4441-3de7-4d18-f69c-9a671bbaecb7"
      },
      "id": "B54NAkhWt60B",
      "execution_count": 303,
      "outputs": [
        {
          "output_type": "stream",
          "name": "stdout",
          "text": [
            "[nan 'Undivided Two way' 'other' 'Double carriageway (median)' 'One way'\n",
            " 'Two-way (divided with solid lines road marking)'\n",
            " 'Two-way (divided with broken lines road marking)' 'Unknown']\n"
          ]
        }
      ]
    },
    {
      "cell_type": "code",
      "source": [
        "df['Lanes_or_Medians'] = df['Lanes_or_Medians'].str.strip()"
      ],
      "metadata": {
        "id": "SqKQxpQIuL_4"
      },
      "id": "SqKQxpQIuL_4",
      "execution_count": 304,
      "outputs": []
    },
    {
      "cell_type": "code",
      "source": [
        "df['Lanes_or_Medians'].fillna('Unknown', inplace=True)"
      ],
      "metadata": {
        "id": "A6eyjjVSuZf5"
      },
      "id": "A6eyjjVSuZf5",
      "execution_count": 305,
      "outputs": []
    },
    {
      "cell_type": "code",
      "source": [
        "print(df['Road_allignment'].unique())"
      ],
      "metadata": {
        "colab": {
          "base_uri": "https://localhost:8080/"
        },
        "id": "qkj6peiju03j",
        "outputId": "f48f3a76-44ba-48a2-8b27-75fce44864cf"
      },
      "id": "qkj6peiju03j",
      "execution_count": 306,
      "outputs": [
        {
          "output_type": "stream",
          "name": "stdout",
          "text": [
            "['Tangent road with flat terrain' nan\n",
            " 'Tangent road with mild grade and flat terrain' 'Escarpments'\n",
            " 'Tangent road with rolling terrain' 'Gentle horizontal curve'\n",
            " 'Tangent road with mountainous terrain and'\n",
            " 'Steep grade downward with mountainous terrain' 'Sharp reverse curve'\n",
            " 'Steep grade upward with mountainous terrain']\n"
          ]
        }
      ]
    },
    {
      "cell_type": "code",
      "source": [
        "df['Road_allignment'].fillna('Unknown', inplace=True)"
      ],
      "metadata": {
        "id": "-COLaitfu6tj"
      },
      "id": "-COLaitfu6tj",
      "execution_count": 307,
      "outputs": []
    },
    {
      "cell_type": "code",
      "source": [
        "print(df['Types_of_Junction'].unique())"
      ],
      "metadata": {
        "colab": {
          "base_uri": "https://localhost:8080/"
        },
        "id": "E0ZxHb4jvS74",
        "outputId": "03425b44-1b51-4d41-de9c-b84ce291a8b4"
      },
      "id": "E0ZxHb4jvS74",
      "execution_count": 308,
      "outputs": [
        {
          "output_type": "stream",
          "name": "stdout",
          "text": [
            "['No junction' 'Y Shape' 'Crossing' 'O Shape' 'Other' 'Unknown' 'T Shape'\n",
            " 'X Shape' nan]\n"
          ]
        }
      ]
    },
    {
      "cell_type": "code",
      "source": [
        "df['Types_of_Junction'].fillna('Unknown', inplace=True)"
      ],
      "metadata": {
        "id": "E2yYBsKevtv6"
      },
      "id": "E2yYBsKevtv6",
      "execution_count": 309,
      "outputs": []
    },
    {
      "cell_type": "code",
      "source": [
        "print(df['Road_surface_type'].unique())"
      ],
      "metadata": {
        "colab": {
          "base_uri": "https://localhost:8080/"
        },
        "id": "RDeSGc7lv1Wn",
        "outputId": "d4256d6b-6245-4f39-ec89-195513b238ef"
      },
      "id": "RDeSGc7lv1Wn",
      "execution_count": 310,
      "outputs": [
        {
          "output_type": "stream",
          "name": "stdout",
          "text": [
            "['Asphalt roads' 'Earth roads' nan 'Asphalt roads with some distress'\n",
            " 'Gravel roads' 'Other']\n"
          ]
        }
      ]
    },
    {
      "cell_type": "code",
      "source": [
        "df['Road_surface_type'].fillna('Unknown', inplace=True)"
      ],
      "metadata": {
        "id": "4W1xVPoSwH-W"
      },
      "id": "4W1xVPoSwH-W",
      "execution_count": 311,
      "outputs": []
    },
    {
      "cell_type": "code",
      "source": [
        "print(df['Type_of_collision'].unique())"
      ],
      "metadata": {
        "colab": {
          "base_uri": "https://localhost:8080/"
        },
        "id": "Z1dbfk_owWt7",
        "outputId": "27b4b9e8-3dc6-430c-8513-c1db1c32c042"
      },
      "id": "Z1dbfk_owWt7",
      "execution_count": 312,
      "outputs": [
        {
          "output_type": "stream",
          "name": "stdout",
          "text": [
            "['Collision with roadside-parked vehicles'\n",
            " 'Vehicle with vehicle collision' 'Collision with roadside objects'\n",
            " 'Collision with animals' 'Other' 'Rollover' 'Fall from vehicles'\n",
            " 'Collision with pedestrians' 'With Train' 'Unknown' nan]\n"
          ]
        }
      ]
    },
    {
      "cell_type": "code",
      "source": [
        "df['Type_of_collision'].fillna('Unknown', inplace=True)"
      ],
      "metadata": {
        "id": "xLbHyxiaxUql"
      },
      "id": "xLbHyxiaxUql",
      "execution_count": 313,
      "outputs": []
    },
    {
      "cell_type": "code",
      "source": [
        "print(df['Vehicle_movement'].unique())"
      ],
      "metadata": {
        "colab": {
          "base_uri": "https://localhost:8080/"
        },
        "id": "i-uAMSlIxGIi",
        "outputId": "7e4cca62-7f82-4056-e980-4597b7e4e935"
      },
      "id": "i-uAMSlIxGIi",
      "execution_count": 314,
      "outputs": [
        {
          "output_type": "stream",
          "name": "stdout",
          "text": [
            "['Going straight' 'U-Turn' 'Moving Backward' 'Turnover' 'Waiting to go'\n",
            " 'Getting off' 'Reversing' 'Unknown' 'Parked' 'Stopping' 'Overtaking'\n",
            " 'Other' 'Entering a junction' nan]\n"
          ]
        }
      ]
    },
    {
      "cell_type": "code",
      "source": [
        "df['Vehicle_movement'].replace({\n",
        "    'Going straight': 'Going straight',\n",
        "    'U-Turn': 'U-Turn',\n",
        "    'Moving Backward': 'Reversing', #نفس المعنى\n",
        "    'Turnover': 'Turnover',\n",
        "    'Waiting to go': 'Waiting to go',\n",
        "    'Getting off': 'Getting off',\n",
        "    'Reversing': 'Reversing',\n",
        "    'Unknown': 'Unknown',\n",
        "    'Parked': 'Parked',\n",
        "    'Stopping': 'Stopping',\n",
        "    'Overtaking': 'Overtaking',\n",
        "    'Other': 'Other',\n",
        "    'Entering a junction': 'Entering a junction'}, inplace=True)"
      ],
      "metadata": {
        "id": "ezMLXVCaxGaM"
      },
      "id": "ezMLXVCaxGaM",
      "execution_count": 315,
      "outputs": []
    },
    {
      "cell_type": "code",
      "source": [
        "df['Vehicle_movement'].fillna('Unknown', inplace=True)"
      ],
      "metadata": {
        "id": "s1JzluhXyaLX"
      },
      "id": "s1JzluhXyaLX",
      "execution_count": 316,
      "outputs": []
    },
    {
      "cell_type": "code",
      "source": [
        "print(df['Work_of_casuality'].unique())"
      ],
      "metadata": {
        "colab": {
          "base_uri": "https://localhost:8080/"
        },
        "id": "BIZA7BsHyoIZ",
        "outputId": "25ec7eec-d69b-48d4-9867-6b514a2f45fb"
      },
      "id": "BIZA7BsHyoIZ",
      "execution_count": 317,
      "outputs": [
        {
          "output_type": "stream",
          "name": "stdout",
          "text": [
            "[nan 'Driver' 'Other' 'Unemployed' 'Employee' 'Self-employed' 'Student'\n",
            " 'Unknown']\n"
          ]
        }
      ]
    },
    {
      "cell_type": "code",
      "source": [
        "df.drop('Work_of_casuality', axis=1, inplace=True)"
      ],
      "metadata": {
        "id": "zfJvJdSOzODF"
      },
      "id": "zfJvJdSOzODF",
      "execution_count": 318,
      "outputs": []
    },
    {
      "cell_type": "code",
      "source": [
        "print(df['Fitness_of_casuality'].unique())"
      ],
      "metadata": {
        "colab": {
          "base_uri": "https://localhost:8080/"
        },
        "id": "kEa8k3s7zad6",
        "outputId": "99fc4c34-cfee-492f-b340-add54c7a8337"
      },
      "id": "kEa8k3s7zad6",
      "execution_count": 319,
      "outputs": [
        {
          "output_type": "stream",
          "name": "stdout",
          "text": [
            "[nan 'Normal' 'Deaf' 'Other' 'Blind' 'NormalNormal']\n"
          ]
        }
      ]
    },
    {
      "cell_type": "code",
      "source": [
        "df['Fitness_of_casuality'] = df['Fitness_of_casuality'].replace({\n",
        "    'NormalNormal': 'Normal',\n",
        "    'Normal': 'Normal',\n",
        "    'Deaf': 'Deaf',\n",
        "    'Blind': 'Blind',\n",
        "    'Other': 'Other',\n",
        "    'Unknown': 'Unknown'\n",
        "})"
      ],
      "metadata": {
        "id": "FQfr1RPWzw2m"
      },
      "id": "FQfr1RPWzw2m",
      "execution_count": 320,
      "outputs": []
    },
    {
      "cell_type": "code",
      "source": [
        "df['Fitness_of_casuality'].fillna('Unknown', inplace=True)"
      ],
      "metadata": {
        "id": "hP19E0D50bc9"
      },
      "id": "hP19E0D50bc9",
      "execution_count": 321,
      "outputs": []
    },
    {
      "cell_type": "code",
      "source": [
        "df.isnull().sum()"
      ],
      "metadata": {
        "colab": {
          "base_uri": "https://localhost:8080/",
          "height": 1000
        },
        "id": "hTM67OLnzZEi",
        "outputId": "b1a51497-9468-4770-f9f8-953c102e8fa3"
      },
      "id": "hTM67OLnzZEi",
      "execution_count": 322,
      "outputs": [
        {
          "output_type": "execute_result",
          "data": {
            "text/plain": [
              "Time                           0\n",
              "Day_of_week                    0\n",
              "Age_band_of_driver             0\n",
              "Sex_of_driver                  0\n",
              "Educational_level              0\n",
              "Vehicle_driver_relation        0\n",
              "Driving_experience             0\n",
              "Type_of_vehicle                0\n",
              "Owner_of_vehicle               0\n",
              "Service_year_of_vehicle        0\n",
              "Defect_of_vehicle              0\n",
              "Area_accident_occured          0\n",
              "Lanes_or_Medians               0\n",
              "Road_allignment                0\n",
              "Types_of_Junction              0\n",
              "Road_surface_type              0\n",
              "Road_surface_conditions        0\n",
              "Light_conditions               0\n",
              "Weather_conditions             0\n",
              "Type_of_collision              0\n",
              "Number_of_vehicles_involved    0\n",
              "Number_of_casualties           0\n",
              "Vehicle_movement               0\n",
              "Casualty_class                 0\n",
              "Sex_of_casualty                0\n",
              "Age_band_of_casualty           0\n",
              "Casualty_severity              0\n",
              "Fitness_of_casuality           0\n",
              "Pedestrian_movement            0\n",
              "Cause_of_accident              0\n",
              "Accident_severity              0\n",
              "dtype: int64"
            ],
            "text/html": [
              "<table border=\"1\" class=\"dataframe\">\n",
              "  <thead>\n",
              "    <tr style=\"text-align: right;\">\n",
              "      <th></th>\n",
              "      <th>0</th>\n",
              "    </tr>\n",
              "  </thead>\n",
              "  <tbody>\n",
              "    <tr>\n",
              "      <th>Time</th>\n",
              "      <td>0</td>\n",
              "    </tr>\n",
              "    <tr>\n",
              "      <th>Day_of_week</th>\n",
              "      <td>0</td>\n",
              "    </tr>\n",
              "    <tr>\n",
              "      <th>Age_band_of_driver</th>\n",
              "      <td>0</td>\n",
              "    </tr>\n",
              "    <tr>\n",
              "      <th>Sex_of_driver</th>\n",
              "      <td>0</td>\n",
              "    </tr>\n",
              "    <tr>\n",
              "      <th>Educational_level</th>\n",
              "      <td>0</td>\n",
              "    </tr>\n",
              "    <tr>\n",
              "      <th>Vehicle_driver_relation</th>\n",
              "      <td>0</td>\n",
              "    </tr>\n",
              "    <tr>\n",
              "      <th>Driving_experience</th>\n",
              "      <td>0</td>\n",
              "    </tr>\n",
              "    <tr>\n",
              "      <th>Type_of_vehicle</th>\n",
              "      <td>0</td>\n",
              "    </tr>\n",
              "    <tr>\n",
              "      <th>Owner_of_vehicle</th>\n",
              "      <td>0</td>\n",
              "    </tr>\n",
              "    <tr>\n",
              "      <th>Service_year_of_vehicle</th>\n",
              "      <td>0</td>\n",
              "    </tr>\n",
              "    <tr>\n",
              "      <th>Defect_of_vehicle</th>\n",
              "      <td>0</td>\n",
              "    </tr>\n",
              "    <tr>\n",
              "      <th>Area_accident_occured</th>\n",
              "      <td>0</td>\n",
              "    </tr>\n",
              "    <tr>\n",
              "      <th>Lanes_or_Medians</th>\n",
              "      <td>0</td>\n",
              "    </tr>\n",
              "    <tr>\n",
              "      <th>Road_allignment</th>\n",
              "      <td>0</td>\n",
              "    </tr>\n",
              "    <tr>\n",
              "      <th>Types_of_Junction</th>\n",
              "      <td>0</td>\n",
              "    </tr>\n",
              "    <tr>\n",
              "      <th>Road_surface_type</th>\n",
              "      <td>0</td>\n",
              "    </tr>\n",
              "    <tr>\n",
              "      <th>Road_surface_conditions</th>\n",
              "      <td>0</td>\n",
              "    </tr>\n",
              "    <tr>\n",
              "      <th>Light_conditions</th>\n",
              "      <td>0</td>\n",
              "    </tr>\n",
              "    <tr>\n",
              "      <th>Weather_conditions</th>\n",
              "      <td>0</td>\n",
              "    </tr>\n",
              "    <tr>\n",
              "      <th>Type_of_collision</th>\n",
              "      <td>0</td>\n",
              "    </tr>\n",
              "    <tr>\n",
              "      <th>Number_of_vehicles_involved</th>\n",
              "      <td>0</td>\n",
              "    </tr>\n",
              "    <tr>\n",
              "      <th>Number_of_casualties</th>\n",
              "      <td>0</td>\n",
              "    </tr>\n",
              "    <tr>\n",
              "      <th>Vehicle_movement</th>\n",
              "      <td>0</td>\n",
              "    </tr>\n",
              "    <tr>\n",
              "      <th>Casualty_class</th>\n",
              "      <td>0</td>\n",
              "    </tr>\n",
              "    <tr>\n",
              "      <th>Sex_of_casualty</th>\n",
              "      <td>0</td>\n",
              "    </tr>\n",
              "    <tr>\n",
              "      <th>Age_band_of_casualty</th>\n",
              "      <td>0</td>\n",
              "    </tr>\n",
              "    <tr>\n",
              "      <th>Casualty_severity</th>\n",
              "      <td>0</td>\n",
              "    </tr>\n",
              "    <tr>\n",
              "      <th>Fitness_of_casuality</th>\n",
              "      <td>0</td>\n",
              "    </tr>\n",
              "    <tr>\n",
              "      <th>Pedestrian_movement</th>\n",
              "      <td>0</td>\n",
              "    </tr>\n",
              "    <tr>\n",
              "      <th>Cause_of_accident</th>\n",
              "      <td>0</td>\n",
              "    </tr>\n",
              "    <tr>\n",
              "      <th>Accident_severity</th>\n",
              "      <td>0</td>\n",
              "    </tr>\n",
              "  </tbody>\n",
              "</table><br><label><b>dtype:</b> int64</label>"
            ]
          },
          "metadata": {},
          "execution_count": 322
        }
      ]
    },
    {
      "cell_type": "code",
      "source": [
        "df.info()"
      ],
      "metadata": {
        "colab": {
          "base_uri": "https://localhost:8080/"
        },
        "id": "WP_3xw7f_8k6",
        "outputId": "a8cddade-3377-4287-cc32-9b87d63848e2"
      },
      "id": "WP_3xw7f_8k6",
      "execution_count": 340,
      "outputs": [
        {
          "output_type": "stream",
          "name": "stdout",
          "text": [
            "<class 'pandas.core.frame.DataFrame'>\n",
            "RangeIndex: 12316 entries, 0 to 12315\n",
            "Data columns (total 31 columns):\n",
            " #   Column                       Non-Null Count  Dtype  \n",
            "---  ------                       --------------  -----  \n",
            " 0   Time                         12316 non-null  object \n",
            " 1   Day_of_week                  12316 non-null  object \n",
            " 2   Age_band_of_driver           12316 non-null  object \n",
            " 3   Sex_of_driver                12316 non-null  object \n",
            " 4   Educational_level            12316 non-null  object \n",
            " 5   Vehicle_driver_relation      12316 non-null  object \n",
            " 6   Driving_experience           12316 non-null  object \n",
            " 7   Type_of_vehicle              12316 non-null  object \n",
            " 8   Owner_of_vehicle             12316 non-null  object \n",
            " 9   Service_year_of_vehicle      12316 non-null  float64\n",
            " 10  Defect_of_vehicle            12316 non-null  object \n",
            " 11  Area_accident_occured        12316 non-null  object \n",
            " 12  Lanes_or_Medians             12316 non-null  object \n",
            " 13  Road_allignment              12316 non-null  object \n",
            " 14  Types_of_Junction            12316 non-null  object \n",
            " 15  Road_surface_type            12316 non-null  object \n",
            " 16  Road_surface_conditions      12316 non-null  object \n",
            " 17  Light_conditions             12316 non-null  object \n",
            " 18  Weather_conditions           12316 non-null  object \n",
            " 19  Type_of_collision            12316 non-null  object \n",
            " 20  Number_of_vehicles_involved  12316 non-null  int64  \n",
            " 21  Number_of_casualties         12316 non-null  int64  \n",
            " 22  Vehicle_movement             12316 non-null  object \n",
            " 23  Casualty_class               12316 non-null  object \n",
            " 24  Sex_of_casualty              12316 non-null  object \n",
            " 25  Age_band_of_casualty         12316 non-null  object \n",
            " 26  Casualty_severity            12316 non-null  object \n",
            " 27  Fitness_of_casuality         12316 non-null  object \n",
            " 28  Pedestrian_movement          12316 non-null  object \n",
            " 29  Cause_of_accident            12316 non-null  object \n",
            " 30  Accident_severity            12316 non-null  object \n",
            "dtypes: float64(1), int64(2), object(28)\n",
            "memory usage: 2.9+ MB\n"
          ]
        }
      ]
    },
    {
      "cell_type": "code",
      "source": [
        "df.head()"
      ],
      "metadata": {
        "colab": {
          "base_uri": "https://localhost:8080/",
          "height": 290
        },
        "id": "F4OAwZT67j8W",
        "outputId": "43d208dd-9a8e-4426-93c6-78c491bb9726"
      },
      "id": "F4OAwZT67j8W",
      "execution_count": 323,
      "outputs": [
        {
          "output_type": "execute_result",
          "data": {
            "text/plain": [
              "       Time Day_of_week Age_band_of_driver Sex_of_driver   Educational_level  \\\n",
              "0  17:02:00      Monday              18-30          Male   Above high school   \n",
              "1  17:02:00      Monday              31-50          Male  Junior high school   \n",
              "2  17:02:00      Monday              18-30          Male  Junior high school   \n",
              "3   1:06:00      Sunday              18-30          Male  Junior high school   \n",
              "4   1:06:00      Sunday              18-30          Male  Junior high school   \n",
              "\n",
              "  Vehicle_driver_relation Driving_experience Type_of_vehicle Owner_of_vehicle  \\\n",
              "0                Employee              1-2yr           Other            Owner   \n",
              "1                Employee         Above 10yr          Public            Owner   \n",
              "2                Employee              1-2yr           Lorry            Owner   \n",
              "3                Employee             5-10yr          Public     Governmental   \n",
              "4                Employee              2-5yr         Unknown            Owner   \n",
              "\n",
              "   Service_year_of_vehicle  ... Number_of_casualties Vehicle_movement  \\\n",
              "0                 4.126644  ...                    2   Going straight   \n",
              "1                 7.500000  ...                    2   Going straight   \n",
              "2                 4.126644  ...                    2   Going straight   \n",
              "3                 4.126644  ...                    2   Going straight   \n",
              "4                 7.500000  ...                    2   Going straight   \n",
              "\n",
              "    Casualty_class Sex_of_casualty Age_band_of_casualty Casualty_severity  \\\n",
              "0               na              na                   na                na   \n",
              "1               na              na                   na                na   \n",
              "2  Driver or rider            Male                31-50                 3   \n",
              "3       Pedestrian          Female                18-30                 3   \n",
              "4               na              na                   na                na   \n",
              "\n",
              "  Fitness_of_casuality Pedestrian_movement           Cause_of_accident  \\\n",
              "0              Unknown    Not a Pedestrian             Moving Backward   \n",
              "1              Unknown    Not a Pedestrian                  Overtaking   \n",
              "2              Unknown    Not a Pedestrian   Changing lane to the left   \n",
              "3               Normal    Not a Pedestrian  Changing lane to the right   \n",
              "4              Unknown    Not a Pedestrian                  Overtaking   \n",
              "\n",
              "  Accident_severity  \n",
              "0     Slight Injury  \n",
              "1     Slight Injury  \n",
              "2    Serious Injury  \n",
              "3     Slight Injury  \n",
              "4     Slight Injury  \n",
              "\n",
              "[5 rows x 31 columns]"
            ],
            "text/html": [
              "\n",
              "  <div id=\"df-eeff7653-0ea7-4fb2-b413-64858f8cfcf3\" class=\"colab-df-container\">\n",
              "    <div>\n",
              "<style scoped>\n",
              "    .dataframe tbody tr th:only-of-type {\n",
              "        vertical-align: middle;\n",
              "    }\n",
              "\n",
              "    .dataframe tbody tr th {\n",
              "        vertical-align: top;\n",
              "    }\n",
              "\n",
              "    .dataframe thead th {\n",
              "        text-align: right;\n",
              "    }\n",
              "</style>\n",
              "<table border=\"1\" class=\"dataframe\">\n",
              "  <thead>\n",
              "    <tr style=\"text-align: right;\">\n",
              "      <th></th>\n",
              "      <th>Time</th>\n",
              "      <th>Day_of_week</th>\n",
              "      <th>Age_band_of_driver</th>\n",
              "      <th>Sex_of_driver</th>\n",
              "      <th>Educational_level</th>\n",
              "      <th>Vehicle_driver_relation</th>\n",
              "      <th>Driving_experience</th>\n",
              "      <th>Type_of_vehicle</th>\n",
              "      <th>Owner_of_vehicle</th>\n",
              "      <th>Service_year_of_vehicle</th>\n",
              "      <th>...</th>\n",
              "      <th>Number_of_casualties</th>\n",
              "      <th>Vehicle_movement</th>\n",
              "      <th>Casualty_class</th>\n",
              "      <th>Sex_of_casualty</th>\n",
              "      <th>Age_band_of_casualty</th>\n",
              "      <th>Casualty_severity</th>\n",
              "      <th>Fitness_of_casuality</th>\n",
              "      <th>Pedestrian_movement</th>\n",
              "      <th>Cause_of_accident</th>\n",
              "      <th>Accident_severity</th>\n",
              "    </tr>\n",
              "  </thead>\n",
              "  <tbody>\n",
              "    <tr>\n",
              "      <th>0</th>\n",
              "      <td>17:02:00</td>\n",
              "      <td>Monday</td>\n",
              "      <td>18-30</td>\n",
              "      <td>Male</td>\n",
              "      <td>Above high school</td>\n",
              "      <td>Employee</td>\n",
              "      <td>1-2yr</td>\n",
              "      <td>Other</td>\n",
              "      <td>Owner</td>\n",
              "      <td>4.126644</td>\n",
              "      <td>...</td>\n",
              "      <td>2</td>\n",
              "      <td>Going straight</td>\n",
              "      <td>na</td>\n",
              "      <td>na</td>\n",
              "      <td>na</td>\n",
              "      <td>na</td>\n",
              "      <td>Unknown</td>\n",
              "      <td>Not a Pedestrian</td>\n",
              "      <td>Moving Backward</td>\n",
              "      <td>Slight Injury</td>\n",
              "    </tr>\n",
              "    <tr>\n",
              "      <th>1</th>\n",
              "      <td>17:02:00</td>\n",
              "      <td>Monday</td>\n",
              "      <td>31-50</td>\n",
              "      <td>Male</td>\n",
              "      <td>Junior high school</td>\n",
              "      <td>Employee</td>\n",
              "      <td>Above 10yr</td>\n",
              "      <td>Public</td>\n",
              "      <td>Owner</td>\n",
              "      <td>7.500000</td>\n",
              "      <td>...</td>\n",
              "      <td>2</td>\n",
              "      <td>Going straight</td>\n",
              "      <td>na</td>\n",
              "      <td>na</td>\n",
              "      <td>na</td>\n",
              "      <td>na</td>\n",
              "      <td>Unknown</td>\n",
              "      <td>Not a Pedestrian</td>\n",
              "      <td>Overtaking</td>\n",
              "      <td>Slight Injury</td>\n",
              "    </tr>\n",
              "    <tr>\n",
              "      <th>2</th>\n",
              "      <td>17:02:00</td>\n",
              "      <td>Monday</td>\n",
              "      <td>18-30</td>\n",
              "      <td>Male</td>\n",
              "      <td>Junior high school</td>\n",
              "      <td>Employee</td>\n",
              "      <td>1-2yr</td>\n",
              "      <td>Lorry</td>\n",
              "      <td>Owner</td>\n",
              "      <td>4.126644</td>\n",
              "      <td>...</td>\n",
              "      <td>2</td>\n",
              "      <td>Going straight</td>\n",
              "      <td>Driver or rider</td>\n",
              "      <td>Male</td>\n",
              "      <td>31-50</td>\n",
              "      <td>3</td>\n",
              "      <td>Unknown</td>\n",
              "      <td>Not a Pedestrian</td>\n",
              "      <td>Changing lane to the left</td>\n",
              "      <td>Serious Injury</td>\n",
              "    </tr>\n",
              "    <tr>\n",
              "      <th>3</th>\n",
              "      <td>1:06:00</td>\n",
              "      <td>Sunday</td>\n",
              "      <td>18-30</td>\n",
              "      <td>Male</td>\n",
              "      <td>Junior high school</td>\n",
              "      <td>Employee</td>\n",
              "      <td>5-10yr</td>\n",
              "      <td>Public</td>\n",
              "      <td>Governmental</td>\n",
              "      <td>4.126644</td>\n",
              "      <td>...</td>\n",
              "      <td>2</td>\n",
              "      <td>Going straight</td>\n",
              "      <td>Pedestrian</td>\n",
              "      <td>Female</td>\n",
              "      <td>18-30</td>\n",
              "      <td>3</td>\n",
              "      <td>Normal</td>\n",
              "      <td>Not a Pedestrian</td>\n",
              "      <td>Changing lane to the right</td>\n",
              "      <td>Slight Injury</td>\n",
              "    </tr>\n",
              "    <tr>\n",
              "      <th>4</th>\n",
              "      <td>1:06:00</td>\n",
              "      <td>Sunday</td>\n",
              "      <td>18-30</td>\n",
              "      <td>Male</td>\n",
              "      <td>Junior high school</td>\n",
              "      <td>Employee</td>\n",
              "      <td>2-5yr</td>\n",
              "      <td>Unknown</td>\n",
              "      <td>Owner</td>\n",
              "      <td>7.500000</td>\n",
              "      <td>...</td>\n",
              "      <td>2</td>\n",
              "      <td>Going straight</td>\n",
              "      <td>na</td>\n",
              "      <td>na</td>\n",
              "      <td>na</td>\n",
              "      <td>na</td>\n",
              "      <td>Unknown</td>\n",
              "      <td>Not a Pedestrian</td>\n",
              "      <td>Overtaking</td>\n",
              "      <td>Slight Injury</td>\n",
              "    </tr>\n",
              "  </tbody>\n",
              "</table>\n",
              "<p>5 rows × 31 columns</p>\n",
              "</div>\n",
              "    <div class=\"colab-df-buttons\">\n",
              "\n",
              "  <div class=\"colab-df-container\">\n",
              "    <button class=\"colab-df-convert\" onclick=\"convertToInteractive('df-eeff7653-0ea7-4fb2-b413-64858f8cfcf3')\"\n",
              "            title=\"Convert this dataframe to an interactive table.\"\n",
              "            style=\"display:none;\">\n",
              "\n",
              "  <svg xmlns=\"http://www.w3.org/2000/svg\" height=\"24px\" viewBox=\"0 -960 960 960\">\n",
              "    <path d=\"M120-120v-720h720v720H120Zm60-500h600v-160H180v160Zm220 220h160v-160H400v160Zm0 220h160v-160H400v160ZM180-400h160v-160H180v160Zm440 0h160v-160H620v160ZM180-180h160v-160H180v160Zm440 0h160v-160H620v160Z\"/>\n",
              "  </svg>\n",
              "    </button>\n",
              "\n",
              "  <style>\n",
              "    .colab-df-container {\n",
              "      display:flex;\n",
              "      gap: 12px;\n",
              "    }\n",
              "\n",
              "    .colab-df-convert {\n",
              "      background-color: #E8F0FE;\n",
              "      border: none;\n",
              "      border-radius: 50%;\n",
              "      cursor: pointer;\n",
              "      display: none;\n",
              "      fill: #1967D2;\n",
              "      height: 32px;\n",
              "      padding: 0 0 0 0;\n",
              "      width: 32px;\n",
              "    }\n",
              "\n",
              "    .colab-df-convert:hover {\n",
              "      background-color: #E2EBFA;\n",
              "      box-shadow: 0px 1px 2px rgba(60, 64, 67, 0.3), 0px 1px 3px 1px rgba(60, 64, 67, 0.15);\n",
              "      fill: #174EA6;\n",
              "    }\n",
              "\n",
              "    .colab-df-buttons div {\n",
              "      margin-bottom: 4px;\n",
              "    }\n",
              "\n",
              "    [theme=dark] .colab-df-convert {\n",
              "      background-color: #3B4455;\n",
              "      fill: #D2E3FC;\n",
              "    }\n",
              "\n",
              "    [theme=dark] .colab-df-convert:hover {\n",
              "      background-color: #434B5C;\n",
              "      box-shadow: 0px 1px 3px 1px rgba(0, 0, 0, 0.15);\n",
              "      filter: drop-shadow(0px 1px 2px rgba(0, 0, 0, 0.3));\n",
              "      fill: #FFFFFF;\n",
              "    }\n",
              "  </style>\n",
              "\n",
              "    <script>\n",
              "      const buttonEl =\n",
              "        document.querySelector('#df-eeff7653-0ea7-4fb2-b413-64858f8cfcf3 button.colab-df-convert');\n",
              "      buttonEl.style.display =\n",
              "        google.colab.kernel.accessAllowed ? 'block' : 'none';\n",
              "\n",
              "      async function convertToInteractive(key) {\n",
              "        const element = document.querySelector('#df-eeff7653-0ea7-4fb2-b413-64858f8cfcf3');\n",
              "        const dataTable =\n",
              "          await google.colab.kernel.invokeFunction('convertToInteractive',\n",
              "                                                    [key], {});\n",
              "        if (!dataTable) return;\n",
              "\n",
              "        const docLinkHtml = 'Like what you see? Visit the ' +\n",
              "          '<a target=\"_blank\" href=https://colab.research.google.com/notebooks/data_table.ipynb>data table notebook</a>'\n",
              "          + ' to learn more about interactive tables.';\n",
              "        element.innerHTML = '';\n",
              "        dataTable['output_type'] = 'display_data';\n",
              "        await google.colab.output.renderOutput(dataTable, element);\n",
              "        const docLink = document.createElement('div');\n",
              "        docLink.innerHTML = docLinkHtml;\n",
              "        element.appendChild(docLink);\n",
              "      }\n",
              "    </script>\n",
              "  </div>\n",
              "\n",
              "\n",
              "<div id=\"df-4c12ff41-d1a7-4d16-af75-2f4cc2cf29b0\">\n",
              "  <button class=\"colab-df-quickchart\" onclick=\"quickchart('df-4c12ff41-d1a7-4d16-af75-2f4cc2cf29b0')\"\n",
              "            title=\"Suggest charts\"\n",
              "            style=\"display:none;\">\n",
              "\n",
              "<svg xmlns=\"http://www.w3.org/2000/svg\" height=\"24px\"viewBox=\"0 0 24 24\"\n",
              "     width=\"24px\">\n",
              "    <g>\n",
              "        <path d=\"M19 3H5c-1.1 0-2 .9-2 2v14c0 1.1.9 2 2 2h14c1.1 0 2-.9 2-2V5c0-1.1-.9-2-2-2zM9 17H7v-7h2v7zm4 0h-2V7h2v10zm4 0h-2v-4h2v4z\"/>\n",
              "    </g>\n",
              "</svg>\n",
              "  </button>\n",
              "\n",
              "<style>\n",
              "  .colab-df-quickchart {\n",
              "      --bg-color: #E8F0FE;\n",
              "      --fill-color: #1967D2;\n",
              "      --hover-bg-color: #E2EBFA;\n",
              "      --hover-fill-color: #174EA6;\n",
              "      --disabled-fill-color: #AAA;\n",
              "      --disabled-bg-color: #DDD;\n",
              "  }\n",
              "\n",
              "  [theme=dark] .colab-df-quickchart {\n",
              "      --bg-color: #3B4455;\n",
              "      --fill-color: #D2E3FC;\n",
              "      --hover-bg-color: #434B5C;\n",
              "      --hover-fill-color: #FFFFFF;\n",
              "      --disabled-bg-color: #3B4455;\n",
              "      --disabled-fill-color: #666;\n",
              "  }\n",
              "\n",
              "  .colab-df-quickchart {\n",
              "    background-color: var(--bg-color);\n",
              "    border: none;\n",
              "    border-radius: 50%;\n",
              "    cursor: pointer;\n",
              "    display: none;\n",
              "    fill: var(--fill-color);\n",
              "    height: 32px;\n",
              "    padding: 0;\n",
              "    width: 32px;\n",
              "  }\n",
              "\n",
              "  .colab-df-quickchart:hover {\n",
              "    background-color: var(--hover-bg-color);\n",
              "    box-shadow: 0 1px 2px rgba(60, 64, 67, 0.3), 0 1px 3px 1px rgba(60, 64, 67, 0.15);\n",
              "    fill: var(--button-hover-fill-color);\n",
              "  }\n",
              "\n",
              "  .colab-df-quickchart-complete:disabled,\n",
              "  .colab-df-quickchart-complete:disabled:hover {\n",
              "    background-color: var(--disabled-bg-color);\n",
              "    fill: var(--disabled-fill-color);\n",
              "    box-shadow: none;\n",
              "  }\n",
              "\n",
              "  .colab-df-spinner {\n",
              "    border: 2px solid var(--fill-color);\n",
              "    border-color: transparent;\n",
              "    border-bottom-color: var(--fill-color);\n",
              "    animation:\n",
              "      spin 1s steps(1) infinite;\n",
              "  }\n",
              "\n",
              "  @keyframes spin {\n",
              "    0% {\n",
              "      border-color: transparent;\n",
              "      border-bottom-color: var(--fill-color);\n",
              "      border-left-color: var(--fill-color);\n",
              "    }\n",
              "    20% {\n",
              "      border-color: transparent;\n",
              "      border-left-color: var(--fill-color);\n",
              "      border-top-color: var(--fill-color);\n",
              "    }\n",
              "    30% {\n",
              "      border-color: transparent;\n",
              "      border-left-color: var(--fill-color);\n",
              "      border-top-color: var(--fill-color);\n",
              "      border-right-color: var(--fill-color);\n",
              "    }\n",
              "    40% {\n",
              "      border-color: transparent;\n",
              "      border-right-color: var(--fill-color);\n",
              "      border-top-color: var(--fill-color);\n",
              "    }\n",
              "    60% {\n",
              "      border-color: transparent;\n",
              "      border-right-color: var(--fill-color);\n",
              "    }\n",
              "    80% {\n",
              "      border-color: transparent;\n",
              "      border-right-color: var(--fill-color);\n",
              "      border-bottom-color: var(--fill-color);\n",
              "    }\n",
              "    90% {\n",
              "      border-color: transparent;\n",
              "      border-bottom-color: var(--fill-color);\n",
              "    }\n",
              "  }\n",
              "</style>\n",
              "\n",
              "  <script>\n",
              "    async function quickchart(key) {\n",
              "      const quickchartButtonEl =\n",
              "        document.querySelector('#' + key + ' button');\n",
              "      quickchartButtonEl.disabled = true;  // To prevent multiple clicks.\n",
              "      quickchartButtonEl.classList.add('colab-df-spinner');\n",
              "      try {\n",
              "        const charts = await google.colab.kernel.invokeFunction(\n",
              "            'suggestCharts', [key], {});\n",
              "      } catch (error) {\n",
              "        console.error('Error during call to suggestCharts:', error);\n",
              "      }\n",
              "      quickchartButtonEl.classList.remove('colab-df-spinner');\n",
              "      quickchartButtonEl.classList.add('colab-df-quickchart-complete');\n",
              "    }\n",
              "    (() => {\n",
              "      let quickchartButtonEl =\n",
              "        document.querySelector('#df-4c12ff41-d1a7-4d16-af75-2f4cc2cf29b0 button');\n",
              "      quickchartButtonEl.style.display =\n",
              "        google.colab.kernel.accessAllowed ? 'block' : 'none';\n",
              "    })();\n",
              "  </script>\n",
              "</div>\n",
              "\n",
              "    </div>\n",
              "  </div>\n"
            ],
            "application/vnd.google.colaboratory.intrinsic+json": {
              "type": "dataframe",
              "variable_name": "df"
            }
          },
          "metadata": {},
          "execution_count": 323
        }
      ]
    },
    {
      "cell_type": "markdown",
      "id": "292ab9c9",
      "metadata": {
        "id": "292ab9c9"
      },
      "source": [
        "## Data Visualization\n",
        "Create various plots to visualize the relationships in the data. Consider using the following to show different aspects of the data:\n",
        "\n",
        "* Heatmap of Correlation Matrix.\n",
        "* Line plots.\n",
        "* Scatter plots.\n",
        "* Histograms.\n",
        "* Boxplots.\n",
        "\n",
        "Use more if needed!"
      ]
    },
    {
      "cell_type": "markdown",
      "source": [
        "**Heatmap**"
      ],
      "metadata": {
        "id": "5PWU_NKy-7Ae"
      },
      "id": "5PWU_NKy-7Ae"
    },
    {
      "cell_type": "code",
      "source": [
        "numerical_columns = df.select_dtypes(include=['number'])\n",
        "print(numerical_columns.columns)"
      ],
      "metadata": {
        "colab": {
          "base_uri": "https://localhost:8080/"
        },
        "id": "3gAtzkPx9AYj",
        "outputId": "b5d1ee6c-74ac-452d-f6de-428e5188fca1"
      },
      "id": "3gAtzkPx9AYj",
      "execution_count": 327,
      "outputs": [
        {
          "output_type": "stream",
          "name": "stdout",
          "text": [
            "Index(['Service_year_of_vehicle', 'Number_of_vehicles_involved',\n",
            "       'Number_of_casualties'],\n",
            "      dtype='object')\n"
          ]
        }
      ]
    },
    {
      "cell_type": "code",
      "source": [
        "corr_matrix = numerical_columns.corr()"
      ],
      "metadata": {
        "id": "mczjPdEg-JVk"
      },
      "id": "mczjPdEg-JVk",
      "execution_count": 335,
      "outputs": []
    },
    {
      "cell_type": "code",
      "source": [
        "f = (\n",
        "    df.loc[:,['Service_year_of_vehicle', 'Number_of_vehicles_involved',\n",
        "       'Number_of_casualties']]\n",
        "   .dropna()\n",
        ").corr()"
      ],
      "metadata": {
        "id": "Xw45tQw0-QIM"
      },
      "id": "Xw45tQw0-QIM",
      "execution_count": 337,
      "outputs": []
    },
    {
      "cell_type": "code",
      "source": [
        "sns.heatmap(f, annot=True)"
      ],
      "metadata": {
        "colab": {
          "base_uri": "https://localhost:8080/",
          "height": 645
        },
        "id": "jFjl2ke19VeR",
        "outputId": "c910ce4f-c034-4b71-8e72-8513e9c6140d"
      },
      "id": "jFjl2ke19VeR",
      "execution_count": 338,
      "outputs": [
        {
          "output_type": "execute_result",
          "data": {
            "text/plain": [
              "<Axes: >"
            ]
          },
          "metadata": {},
          "execution_count": 338
        },
        {
          "output_type": "display_data",
          "data": {
            "text/plain": [
              "<Figure size 640x480 with 2 Axes>"
            ],
            "image/png": "[encoded data removed]"
          },
          "metadata": {}
        }
      ]
    },
    {
      "cell_type": "code",
      "source": [
        "import pandas as pd\n",
        "import matplotlib.pyplot as plt\n",
        "\n",
        "df['Time'] = pd.to_datetime(df['Time'])\n",
        "x = df['Time']\n",
        "y = df['Number_of_casualties']\n",
        "\n",
        "plt.figure(figsize=(12, 6))\n",
        "plt.plot(x, y, marker='o', linestyle='-', color='b')\n",
        "plt.xlabel('Time')\n",
        "plt.ylabel('Number_of_casualties')\n",
        "plt.title('Line Plot of Number_of_casualties Over Time')\n",
        "plt.grid(True)\n",
        "plt.xticks(rotation=45)\n",
        "plt.tight_layout()\n",
        "plt.show()"
      ],
      "metadata": {
        "colab": {
          "base_uri": "https://localhost:8080/",
          "height": 663
        },
        "id": "bq7oVHQsBIo3",
        "outputId": "38d9ef89-db84-4ae8-da13-2c6e23fa401c"
      },
      "id": "bq7oVHQsBIo3",
      "execution_count": 341,
      "outputs": [
        {
          "output_type": "stream",
          "name": "stderr",
          "text": [
            "<ipython-input-341-8e2e00a6a393>:4: UserWarning: Could not infer format, so each element will be parsed individually, falling back to `dateutil`. To ensure parsing is consistent and as-expected, please specify a format.\n",
            "  df['Time'] = pd.to_datetime(df['Time'])\n"
          ]
        },
        {
          "output_type": "display_data",
          "data": {
            "text/plain": [
              "<Figure size 1200x600 with 1 Axes>"
            ],
            "image/png": "[encoded data removed]"
          },
          "metadata": {}
        }
      ]
    },
    {
      "cell_type": "markdown",
      "id": "40ce1d71",
      "metadata": {
        "id": "40ce1d71"
      },
      "source": [
        "## Feature Selection\n",
        "- Choose features that you believe will most influence the outcome based on your analysis and the insights from your visualizations. Focus on those that appear most impactful to include in your modeling.\n",
        "\n",
        "## Train-Test Split\n",
        "* Divide the dataset into training and testing sets to evaluate the performance of your models."
      ]
    },
    {
      "cell_type": "markdown",
      "source": [
        "# **Feature Selection**"
      ],
      "metadata": {
        "id": "MxEerzm7CKy3"
      },
      "id": "MxEerzm7CKy3"
    },
    {
      "cell_type": "code",
      "source": [
        "df['Deaths']= df['Service_year_of_vehicle'] / df['Number_of_casualties']"
      ],
      "metadata": {
        "id": "BjK1aOEbCUN8"
      },
      "id": "BjK1aOEbCUN8",
      "execution_count": 343,
      "outputs": []
    },
    {
      "cell_type": "code",
      "source": [
        "df.head()"
      ],
      "metadata": {
        "colab": {
          "base_uri": "https://localhost:8080/",
          "height": 429
        },
        "id": "5_8OQQy6ECP1",
        "outputId": "878fde3d-07a6-406a-d605-9f05338e1971"
      },
      "id": "5_8OQQy6ECP1",
      "execution_count": 344,
      "outputs": [
        {
          "output_type": "execute_result",
          "data": {
            "text/plain": [
              "                 Time Day_of_week Age_band_of_driver Sex_of_driver  \\\n",
              "0 2024-08-01 17:02:00      Monday              18-30          Male   \n",
              "1 2024-08-01 17:02:00      Monday              31-50          Male   \n",
              "2 2024-08-01 17:02:00      Monday              18-30          Male   \n",
              "3 2024-08-01 01:06:00      Sunday              18-30          Male   \n",
              "4 2024-08-01 01:06:00      Sunday              18-30          Male   \n",
              "\n",
              "    Educational_level Vehicle_driver_relation Driving_experience  \\\n",
              "0   Above high school                Employee              1-2yr   \n",
              "1  Junior high school                Employee         Above 10yr   \n",
              "2  Junior high school                Employee              1-2yr   \n",
              "3  Junior high school                Employee             5-10yr   \n",
              "4  Junior high school                Employee              2-5yr   \n",
              "\n",
              "  Type_of_vehicle Owner_of_vehicle  Service_year_of_vehicle  ...  \\\n",
              "0           Other            Owner                 4.126644  ...   \n",
              "1          Public            Owner                 7.500000  ...   \n",
              "2           Lorry            Owner                 4.126644  ...   \n",
              "3          Public     Governmental                 4.126644  ...   \n",
              "4         Unknown            Owner                 7.500000  ...   \n",
              "\n",
              "  Vehicle_movement   Casualty_class Sex_of_casualty Age_band_of_casualty  \\\n",
              "0   Going straight               na              na                   na   \n",
              "1   Going straight               na              na                   na   \n",
              "2   Going straight  Driver or rider            Male                31-50   \n",
              "3   Going straight       Pedestrian          Female                18-30   \n",
              "4   Going straight               na              na                   na   \n",
              "\n",
              "  Casualty_severity Fitness_of_casuality Pedestrian_movement  \\\n",
              "0                na              Unknown    Not a Pedestrian   \n",
              "1                na              Unknown    Not a Pedestrian   \n",
              "2                 3              Unknown    Not a Pedestrian   \n",
              "3                 3               Normal    Not a Pedestrian   \n",
              "4                na              Unknown    Not a Pedestrian   \n",
              "\n",
              "            Cause_of_accident Accident_severity    Deaths  \n",
              "0             Moving Backward     Slight Injury  2.063322  \n",
              "1                  Overtaking     Slight Injury  3.750000  \n",
              "2   Changing lane to the left    Serious Injury  2.063322  \n",
              "3  Changing lane to the right     Slight Injury  2.063322  \n",
              "4                  Overtaking     Slight Injury  3.750000  \n",
              "\n",
              "[5 rows x 32 columns]"
            ],
            "text/html": [
              "\n",
              "  <div id=\"df-fe8f7317-e41c-437f-ad6f-6f8cd27dab6d\" class=\"colab-df-container\">\n",
              "    <div>\n",
              "<style scoped>\n",
              "    .dataframe tbody tr th:only-of-type {\n",
              "        vertical-align: middle;\n",
              "    }\n",
              "\n",
              "    .dataframe tbody tr th {\n",
              "        vertical-align: top;\n",
              "    }\n",
              "\n",
              "    .dataframe thead th {\n",
              "        text-align: right;\n",
              "    }\n",
              "</style>\n",
              "<table border=\"1\" class=\"dataframe\">\n",
              "  <thead>\n",
              "    <tr style=\"text-align: right;\">\n",
              "      <th></th>\n",
              "      <th>Time</th>\n",
              "      <th>Day_of_week</th>\n",
              "      <th>Age_band_of_driver</th>\n",
              "      <th>Sex_of_driver</th>\n",
              "      <th>Educational_level</th>\n",
              "      <th>Vehicle_driver_relation</th>\n",
              "      <th>Driving_experience</th>\n",
              "      <th>Type_of_vehicle</th>\n",
              "      <th>Owner_of_vehicle</th>\n",
              "      <th>Service_year_of_vehicle</th>\n",
              "      <th>...</th>\n",
              "      <th>Vehicle_movement</th>\n",
              "      <th>Casualty_class</th>\n",
              "      <th>Sex_of_casualty</th>\n",
              "      <th>Age_band_of_casualty</th>\n",
              "      <th>Casualty_severity</th>\n",
              "      <th>Fitness_of_casuality</th>\n",
              "      <th>Pedestrian_movement</th>\n",
              "      <th>Cause_of_accident</th>\n",
              "      <th>Accident_severity</th>\n",
              "      <th>Deaths</th>\n",
              "    </tr>\n",
              "  </thead>\n",
              "  <tbody>\n",
              "    <tr>\n",
              "      <th>0</th>\n",
              "      <td>2024-08-01 17:02:00</td>\n",
              "      <td>Monday</td>\n",
              "      <td>18-30</td>\n",
              "      <td>Male</td>\n",
              "      <td>Above high school</td>\n",
              "      <td>Employee</td>\n",
              "      <td>1-2yr</td>\n",
              "      <td>Other</td>\n",
              "      <td>Owner</td>\n",
              "      <td>4.126644</td>\n",
              "      <td>...</td>\n",
              "      <td>Going straight</td>\n",
              "      <td>na</td>\n",
              "      <td>na</td>\n",
              "      <td>na</td>\n",
              "      <td>na</td>\n",
              "      <td>Unknown</td>\n",
              "      <td>Not a Pedestrian</td>\n",
              "      <td>Moving Backward</td>\n",
              "      <td>Slight Injury</td>\n",
              "      <td>2.063322</td>\n",
              "    </tr>\n",
              "    <tr>\n",
              "      <th>1</th>\n",
              "      <td>2024-08-01 17:02:00</td>\n",
              "      <td>Monday</td>\n",
              "      <td>31-50</td>\n",
              "      <td>Male</td>\n",
              "      <td>Junior high school</td>\n",
              "      <td>Employee</td>\n",
              "      <td>Above 10yr</td>\n",
              "      <td>Public</td>\n",
              "      <td>Owner</td>\n",
              "      <td>7.500000</td>\n",
              "      <td>...</td>\n",
              "      <td>Going straight</td>\n",
              "      <td>na</td>\n",
              "      <td>na</td>\n",
              "      <td>na</td>\n",
              "      <td>na</td>\n",
              "      <td>Unknown</td>\n",
              "      <td>Not a Pedestrian</td>\n",
              "      <td>Overtaking</td>\n",
              "      <td>Slight Injury</td>\n",
              "      <td>3.750000</td>\n",
              "    </tr>\n",
              "    <tr>\n",
              "      <th>2</th>\n",
              "      <td>2024-08-01 17:02:00</td>\n",
              "      <td>Monday</td>\n",
              "      <td>18-30</td>\n",
              "      <td>Male</td>\n",
              "      <td>Junior high school</td>\n",
              "      <td>Employee</td>\n",
              "      <td>1-2yr</td>\n",
              "      <td>Lorry</td>\n",
              "      <td>Owner</td>\n",
              "      <td>4.126644</td>\n",
              "      <td>...</td>\n",
              "      <td>Going straight</td>\n",
              "      <td>Driver or rider</td>\n",
              "      <td>Male</td>\n",
              "      <td>31-50</td>\n",
              "      <td>3</td>\n",
              "      <td>Unknown</td>\n",
              "      <td>Not a Pedestrian</td>\n",
              "      <td>Changing lane to the left</td>\n",
              "      <td>Serious Injury</td>\n",
              "      <td>2.063322</td>\n",
              "    </tr>\n",
              "    <tr>\n",
              "      <th>3</th>\n",
              "      <td>2024-08-01 01:06:00</td>\n",
              "      <td>Sunday</td>\n",
              "      <td>18-30</td>\n",
              "      <td>Male</td>\n",
              "      <td>Junior high school</td>\n",
              "      <td>Employee</td>\n",
              "      <td>5-10yr</td>\n",
              "      <td>Public</td>\n",
              "      <td>Governmental</td>\n",
              "      <td>4.126644</td>\n",
              "      <td>...</td>\n",
              "      <td>Going straight</td>\n",
              "      <td>Pedestrian</td>\n",
              "      <td>Female</td>\n",
              "      <td>18-30</td>\n",
              "      <td>3</td>\n",
              "      <td>Normal</td>\n",
              "      <td>Not a Pedestrian</td>\n",
              "      <td>Changing lane to the right</td>\n",
              "      <td>Slight Injury</td>\n",
              "      <td>2.063322</td>\n",
              "    </tr>\n",
              "    <tr>\n",
              "      <th>4</th>\n",
              "      <td>2024-08-01 01:06:00</td>\n",
              "      <td>Sunday</td>\n",
              "      <td>18-30</td>\n",
              "      <td>Male</td>\n",
              "      <td>Junior high school</td>\n",
              "      <td>Employee</td>\n",
              "      <td>2-5yr</td>\n",
              "      <td>Unknown</td>\n",
              "      <td>Owner</td>\n",
              "      <td>7.500000</td>\n",
              "      <td>...</td>\n",
              "      <td>Going straight</td>\n",
              "      <td>na</td>\n",
              "      <td>na</td>\n",
              "      <td>na</td>\n",
              "      <td>na</td>\n",
              "      <td>Unknown</td>\n",
              "      <td>Not a Pedestrian</td>\n",
              "      <td>Overtaking</td>\n",
              "      <td>Slight Injury</td>\n",
              "      <td>3.750000</td>\n",
              "    </tr>\n",
              "  </tbody>\n",
              "</table>\n",
              "<p>5 rows × 32 columns</p>\n",
              "</div>\n",
              "    <div class=\"colab-df-buttons\">\n",
              "\n",
              "  <div class=\"colab-df-container\">\n",
              "    <button class=\"colab-df-convert\" onclick=\"convertToInteractive('df-fe8f7317-e41c-437f-ad6f-6f8cd27dab6d')\"\n",
              "            title=\"Convert this dataframe to an interactive table.\"\n",
              "            style=\"display:none;\">\n",
              "\n",
              "  <svg xmlns=\"http://www.w3.org/2000/svg\" height=\"24px\" viewBox=\"0 -960 960 960\">\n",
              "    <path d=\"M120-120v-720h720v720H120Zm60-500h600v-160H180v160Zm220 220h160v-160H400v160Zm0 220h160v-160H400v160ZM180-400h160v-160H180v160Zm440 0h160v-160H620v160ZM180-180h160v-160H180v160Zm440 0h160v-160H620v160Z\"/>\n",
              "  </svg>\n",
              "    </button>\n",
              "\n",
              "  <style>\n",
              "    .colab-df-container {\n",
              "      display:flex;\n",
              "      gap: 12px;\n",
              "    }\n",
              "\n",
              "    .colab-df-convert {\n",
              "      background-color: #E8F0FE;\n",
              "      border: none;\n",
              "      border-radius: 50%;\n",
              "      cursor: pointer;\n",
              "      display: none;\n",
              "      fill: #1967D2;\n",
              "      height: 32px;\n",
              "      padding: 0 0 0 0;\n",
              "      width: 32px;\n",
              "    }\n",
              "\n",
              "    .colab-df-convert:hover {\n",
              "      background-color: #E2EBFA;\n",
              "      box-shadow: 0px 1px 2px rgba(60, 64, 67, 0.3), 0px 1px 3px 1px rgba(60, 64, 67, 0.15);\n",
              "      fill: #174EA6;\n",
              "    }\n",
              "\n",
              "    .colab-df-buttons div {\n",
              "      margin-bottom: 4px;\n",
              "    }\n",
              "\n",
              "    [theme=dark] .colab-df-convert {\n",
              "      background-color: #3B4455;\n",
              "      fill: #D2E3FC;\n",
              "    }\n",
              "\n",
              "    [theme=dark] .colab-df-convert:hover {\n",
              "      background-color: #434B5C;\n",
              "      box-shadow: 0px 1px 3px 1px rgba(0, 0, 0, 0.15);\n",
              "      filter: drop-shadow(0px 1px 2px rgba(0, 0, 0, 0.3));\n",
              "      fill: #FFFFFF;\n",
              "    }\n",
              "  </style>\n",
              "\n",
              "    <script>\n",
              "      const buttonEl =\n",
              "        document.querySelector('#df-fe8f7317-e41c-437f-ad6f-6f8cd27dab6d button.colab-df-convert');\n",
              "      buttonEl.style.display =\n",
              "        google.colab.kernel.accessAllowed ? 'block' : 'none';\n",
              "\n",
              "      async function convertToInteractive(key) {\n",
              "        const element = document.querySelector('#df-fe8f7317-e41c-437f-ad6f-6f8cd27dab6d');\n",
              "        const dataTable =\n",
              "          await google.colab.kernel.invokeFunction('convertToInteractive',\n",
              "                                                    [key], {});\n",
              "        if (!dataTable) return;\n",
              "\n",
              "        const docLinkHtml = 'Like what you see? Visit the ' +\n",
              "          '<a target=\"_blank\" href=https://colab.research.google.com/notebooks/data_table.ipynb>data table notebook</a>'\n",
              "          + ' to learn more about interactive tables.';\n",
              "        element.innerHTML = '';\n",
              "        dataTable['output_type'] = 'display_data';\n",
              "        await google.colab.output.renderOutput(dataTable, element);\n",
              "        const docLink = document.createElement('div');\n",
              "        docLink.innerHTML = docLinkHtml;\n",
              "        element.appendChild(docLink);\n",
              "      }\n",
              "    </script>\n",
              "  </div>\n",
              "\n",
              "\n",
              "<div id=\"df-236a0f35-ada0-4acc-998f-d2eeffd83079\">\n",
              "  <button class=\"colab-df-quickchart\" onclick=\"quickchart('df-236a0f35-ada0-4acc-998f-d2eeffd83079')\"\n",
              "            title=\"Suggest charts\"\n",
              "            style=\"display:none;\">\n",
              "\n",
              "<svg xmlns=\"http://www.w3.org/2000/svg\" height=\"24px\"viewBox=\"0 0 24 24\"\n",
              "     width=\"24px\">\n",
              "    <g>\n",
              "        <path d=\"M19 3H5c-1.1 0-2 .9-2 2v14c0 1.1.9 2 2 2h14c1.1 0 2-.9 2-2V5c0-1.1-.9-2-2-2zM9 17H7v-7h2v7zm4 0h-2V7h2v10zm4 0h-2v-4h2v4z\"/>\n",
              "    </g>\n",
              "</svg>\n",
              "  </button>\n",
              "\n",
              "<style>\n",
              "  .colab-df-quickchart {\n",
              "      --bg-color: #E8F0FE;\n",
              "      --fill-color: #1967D2;\n",
              "      --hover-bg-color: #E2EBFA;\n",
              "      --hover-fill-color: #174EA6;\n",
              "      --disabled-fill-color: #AAA;\n",
              "      --disabled-bg-color: #DDD;\n",
              "  }\n",
              "\n",
              "  [theme=dark] .colab-df-quickchart {\n",
              "      --bg-color: #3B4455;\n",
              "      --fill-color: #D2E3FC;\n",
              "      --hover-bg-color: #434B5C;\n",
              "      --hover-fill-color: #FFFFFF;\n",
              "      --disabled-bg-color: #3B4455;\n",
              "      --disabled-fill-color: #666;\n",
              "  }\n",
              "\n",
              "  .colab-df-quickchart {\n",
              "    background-color: var(--bg-color);\n",
              "    border: none;\n",
              "    border-radius: 50%;\n",
              "    cursor: pointer;\n",
              "    display: none;\n",
              "    fill: var(--fill-color);\n",
              "    height: 32px;\n",
              "    padding: 0;\n",
              "    width: 32px;\n",
              "  }\n",
              "\n",
              "  .colab-df-quickchart:hover {\n",
              "    background-color: var(--hover-bg-color);\n",
              "    box-shadow: 0 1px 2px rgba(60, 64, 67, 0.3), 0 1px 3px 1px rgba(60, 64, 67, 0.15);\n",
              "    fill: var(--button-hover-fill-color);\n",
              "  }\n",
              "\n",
              "  .colab-df-quickchart-complete:disabled,\n",
              "  .colab-df-quickchart-complete:disabled:hover {\n",
              "    background-color: var(--disabled-bg-color);\n",
              "    fill: var(--disabled-fill-color);\n",
              "    box-shadow: none;\n",
              "  }\n",
              "\n",
              "  .colab-df-spinner {\n",
              "    border: 2px solid var(--fill-color);\n",
              "    border-color: transparent;\n",
              "    border-bottom-color: var(--fill-color);\n",
              "    animation:\n",
              "      spin 1s steps(1) infinite;\n",
              "  }\n",
              "\n",
              "  @keyframes spin {\n",
              "    0% {\n",
              "      border-color: transparent;\n",
              "      border-bottom-color: var(--fill-color);\n",
              "      border-left-color: var(--fill-color);\n",
              "    }\n",
              "    20% {\n",
              "      border-color: transparent;\n",
              "      border-left-color: var(--fill-color);\n",
              "      border-top-color: var(--fill-color);\n",
              "    }\n",
              "    30% {\n",
              "      border-color: transparent;\n",
              "      border-left-color: var(--fill-color);\n",
              "      border-top-color: var(--fill-color);\n",
              "      border-right-color: var(--fill-color);\n",
              "    }\n",
              "    40% {\n",
              "      border-color: transparent;\n",
              "      border-right-color: var(--fill-color);\n",
              "      border-top-color: var(--fill-color);\n",
              "    }\n",
              "    60% {\n",
              "      border-color: transparent;\n",
              "      border-right-color: var(--fill-color);\n",
              "    }\n",
              "    80% {\n",
              "      border-color: transparent;\n",
              "      border-right-color: var(--fill-color);\n",
              "      border-bottom-color: var(--fill-color);\n",
              "    }\n",
              "    90% {\n",
              "      border-color: transparent;\n",
              "      border-bottom-color: var(--fill-color);\n",
              "    }\n",
              "  }\n",
              "</style>\n",
              "\n",
              "  <script>\n",
              "    async function quickchart(key) {\n",
              "      const quickchartButtonEl =\n",
              "        document.querySelector('#' + key + ' button');\n",
              "      quickchartButtonEl.disabled = true;  // To prevent multiple clicks.\n",
              "      quickchartButtonEl.classList.add('colab-df-spinner');\n",
              "      try {\n",
              "        const charts = await google.colab.kernel.invokeFunction(\n",
              "            'suggestCharts', [key], {});\n",
              "      } catch (error) {\n",
              "        console.error('Error during call to suggestCharts:', error);\n",
              "      }\n",
              "      quickchartButtonEl.classList.remove('colab-df-spinner');\n",
              "      quickchartButtonEl.classList.add('colab-df-quickchart-complete');\n",
              "    }\n",
              "    (() => {\n",
              "      let quickchartButtonEl =\n",
              "        document.querySelector('#df-236a0f35-ada0-4acc-998f-d2eeffd83079 button');\n",
              "      quickchartButtonEl.style.display =\n",
              "        google.colab.kernel.accessAllowed ? 'block' : 'none';\n",
              "    })();\n",
              "  </script>\n",
              "</div>\n",
              "\n",
              "    </div>\n",
              "  </div>\n"
            ],
            "application/vnd.google.colaboratory.intrinsic+json": {
              "type": "dataframe",
              "variable_name": "df"
            }
          },
          "metadata": {},
          "execution_count": 344
        }
      ]
    },
    {
      "cell_type": "markdown",
      "source": [
        "# **Train-Test Split**"
      ],
      "metadata": {
        "id": "w9Cx3LubENoo"
      },
      "id": "w9Cx3LubENoo"
    },
    {
      "cell_type": "code",
      "source": [
        "from sklearn.model_selection import train_test_split\n",
        "\n",
        "X = df.drop('Number_of_vehicles_involved', axis=1)\n",
        "y = df['Number_of_casualties']\n",
        "X_train, X_test, y_train, y_test = train_test_split(X, y, test_size=0.2, random_state=42)"
      ],
      "metadata": {
        "id": "oTpe0HN8_6zn"
      },
      "id": "oTpe0HN8_6zn",
      "execution_count": 356,
      "outputs": []
    },
    {
      "cell_type": "markdown",
      "id": "e74a5058",
      "metadata": {
        "id": "e74a5058"
      },
      "source": [
        "## Modeling\n",
        "\n",
        "Once the data is split into training and testing sets, the next step is to build models to make predictions. Here, we will explore several machine learning algorithms, each with its unique characteristics and suitability for different types of data and problems. You will implement the following models:\n",
        "\n",
        "### 1. Logistic Regression\n",
        "\n",
        "### 2. Decision Tree Classifier\n",
        "\n",
        "### 3. Support Vector Machine (SVM)\n",
        "\n",
        "### 4. K-Neighbors Classifier\n",
        "\n",
        "### Implementing the Models\n",
        "- For each model, use the training data you have prepared to train the model."
      ]
    },
    {
      "cell_type": "markdown",
      "id": "1a6c9815",
      "metadata": {
        "id": "1a6c9815"
      },
      "source": [
        "#### Logistic Regression"
      ]
    },
    {
      "cell_type": "code",
      "source": [
        "from sklearn.preprocessing import StandardScaler, LabelEncoder\n",
        "categorical_columns = df.select_dtypes(include=['object']).columns\n",
        "for column in categorical_columns:\n",
        "    if column != 'Number_of_casualties':\n",
        "        df[column] = df[column].astype('category').cat.codes\n",
        "\n",
        "X = df.drop('Number_of_casualties', axis=1)\n",
        "y = df['Number_of_casualties']\n",
        "X_train, X_test, y_train, y_test = train_test_split(X, y, test_size=0.2, random_state=42)\n",
        "scaler = StandardScaler()\n",
        "X_train = scaler.fit_transform(X_train)\n",
        "X_test = scaler.transform(X_test)"
      ],
      "metadata": {
        "colab": {
          "base_uri": "https://localhost:8080/",
          "height": 517
        },
        "id": "GVa9G22cG0Su",
        "outputId": "2a2d0ccf-0362-4f6b-fb97-51b5af304965"
      },
      "id": "GVa9G22cG0Su",
      "execution_count": 358,
      "outputs": [
        {
          "output_type": "error",
          "ename": "DTypePromotionError",
          "evalue": "The DType <class 'numpy.dtypes.DateTime64DType'> could not be promoted by <class 'numpy.dtypes.Float64DType'>. This means that no common DType exists for the given inputs. For example they cannot be stored in a single array unless the dtype is `object`. The full list of DTypes is: (<class 'numpy.dtypes.DateTime64DType'>, <class 'numpy.dtypes.Int8DType'>, <class 'numpy.dtypes.Int8DType'>, <class 'numpy.dtypes.Int8DType'>, <class 'numpy.dtypes.Int8DType'>, <class 'numpy.dtypes.Int8DType'>, <class 'numpy.dtypes.Int8DType'>, <class 'numpy.dtypes.Int8DType'>, <class 'numpy.dtypes.Int8DType'>, <class 'numpy.dtypes.Float64DType'>, <class 'numpy.dtypes.Int8DType'>, <class 'numpy.dtypes.Int8DType'>, <class 'numpy.dtypes.Int8DType'>, <class 'numpy.dtypes.Int8DType'>, <class 'numpy.dtypes.Int8DType'>, <class 'numpy.dtypes.Int8DType'>, <class 'numpy.dtypes.Int8DType'>, <class 'numpy.dtypes.Int8DType'>, <class 'numpy.dtypes.Int8DType'>, <class 'numpy.dtypes.Int8DType'>, <class 'numpy.dtypes.Int64DType'>, <class 'numpy.dtypes.Int8DType'>, <class 'numpy.dtypes.Int8DType'>, <class 'numpy.dtypes.Int8DType'>, <class 'numpy.dtypes.Int8DType'>, <class 'numpy.dtypes.Int8DType'>, <class 'numpy.dtypes.Int8DType'>, <class 'numpy.dtypes.Int8DType'>, <class 'numpy.dtypes.Int8DType'>, <class 'numpy.dtypes.Int8DType'>, <class 'numpy.dtypes.Float64DType'>)",
          "traceback": [
            "\u001b[0;31m---------------------------------------------------------------------------\u001b[0m",
            "\u001b[0;31mDTypePromotionError\u001b[0m                       Traceback (most recent call last)",
            "\u001b[0;32m<ipython-input-358-9509cb9676ee>\u001b[0m in \u001b[0;36m<cell line: 11>\u001b[0;34m()\u001b[0m\n\u001b[1;32m      9\u001b[0m \u001b[0mX_train\u001b[0m\u001b[0;34m,\u001b[0m \u001b[0mX_test\u001b[0m\u001b[0;34m,\u001b[0m \u001b[0my_train\u001b[0m\u001b[0;34m,\u001b[0m \u001b[0my_test\u001b[0m \u001b[0;34m=\u001b[0m \u001b[0mtrain_test_split\u001b[0m\u001b[0;34m(\u001b[0m\u001b[0mX\u001b[0m\u001b[0;34m,\u001b[0m \u001b[0my\u001b[0m\u001b[0;34m,\u001b[0m \u001b[0mtest_size\u001b[0m\u001b[0;34m=\u001b[0m\u001b[0;36m0.2\u001b[0m\u001b[0;34m,\u001b[0m \u001b[0mrandom_state\u001b[0m\u001b[0;34m=\u001b[0m\u001b[0;36m42\u001b[0m\u001b[0;34m)\u001b[0m\u001b[0;34m\u001b[0m\u001b[0;34m\u001b[0m\u001b[0m\n\u001b[1;32m     10\u001b[0m \u001b[0mscaler\u001b[0m \u001b[0;34m=\u001b[0m \u001b[0mStandardScaler\u001b[0m\u001b[0;34m(\u001b[0m\u001b[0;34m)\u001b[0m\u001b[0;34m\u001b[0m\u001b[0;34m\u001b[0m\u001b[0m\n\u001b[0;32m---> 11\u001b[0;31m \u001b[0mX_train\u001b[0m \u001b[0;34m=\u001b[0m \u001b[0mscaler\u001b[0m\u001b[0;34m.\u001b[0m\u001b[0mfit_transform\u001b[0m\u001b[0;34m(\u001b[0m\u001b[0mX_train\u001b[0m\u001b[0;34m)\u001b[0m\u001b[0;34m\u001b[0m\u001b[0;34m\u001b[0m\u001b[0m\n\u001b[0m\u001b[1;32m     12\u001b[0m \u001b[0mX_test\u001b[0m \u001b[0;34m=\u001b[0m \u001b[0mscaler\u001b[0m\u001b[0;34m.\u001b[0m\u001b[0mtransform\u001b[0m\u001b[0;34m(\u001b[0m\u001b[0mX_test\u001b[0m\u001b[0;34m)\u001b[0m\u001b[0;34m\u001b[0m\u001b[0;34m\u001b[0m\u001b[0m\n",
            "\u001b[0;32m/usr/local/lib/python3.10/dist-packages/sklearn/utils/_set_output.py\u001b[0m in \u001b[0;36mwrapped\u001b[0;34m(self, X, *args, **kwargs)\u001b[0m\n\u001b[1;32m    155\u001b[0m     \u001b[0;34m@\u001b[0m\u001b[0mwraps\u001b[0m\u001b[0;34m(\u001b[0m\u001b[0mf\u001b[0m\u001b[0;34m)\u001b[0m\u001b[0;34m\u001b[0m\u001b[0;34m\u001b[0m\u001b[0m\n\u001b[1;32m    156\u001b[0m     \u001b[0;32mdef\u001b[0m \u001b[0mwrapped\u001b[0m\u001b[0;34m(\u001b[0m\u001b[0mself\u001b[0m\u001b[0;34m,\u001b[0m \u001b[0mX\u001b[0m\u001b[0;34m,\u001b[0m \u001b[0;34m*\u001b[0m\u001b[0margs\u001b[0m\u001b[0;34m,\u001b[0m \u001b[0;34m**\u001b[0m\u001b[0mkwargs\u001b[0m\u001b[0;34m)\u001b[0m\u001b[0;34m:\u001b[0m\u001b[0;34m\u001b[0m\u001b[0;34m\u001b[0m\u001b[0m\n\u001b[0;32m--> 157\u001b[0;31m         \u001b[0mdata_to_wrap\u001b[0m \u001b[0;34m=\u001b[0m \u001b[0mf\u001b[0m\u001b[0;34m(\u001b[0m\u001b[0mself\u001b[0m\u001b[0;34m,\u001b[0m \u001b[0mX\u001b[0m\u001b[0;34m,\u001b[0m \u001b[0;34m*\u001b[0m\u001b[0margs\u001b[0m\u001b[0;34m,\u001b[0m \u001b[0;34m**\u001b[0m\u001b[0mkwargs\u001b[0m\u001b[0;34m)\u001b[0m\u001b[0;34m\u001b[0m\u001b[0;34m\u001b[0m\u001b[0m\n\u001b[0m\u001b[1;32m    158\u001b[0m         \u001b[0;32mif\u001b[0m \u001b[0misinstance\u001b[0m\u001b[0;34m(\u001b[0m\u001b[0mdata_to_wrap\u001b[0m\u001b[0;34m,\u001b[0m \u001b[0mtuple\u001b[0m\u001b[0;34m)\u001b[0m\u001b[0;34m:\u001b[0m\u001b[0;34m\u001b[0m\u001b[0;34m\u001b[0m\u001b[0m\n\u001b[1;32m    159\u001b[0m             \u001b[0;31m# only wrap the first output for cross decomposition\u001b[0m\u001b[0;34m\u001b[0m\u001b[0;34m\u001b[0m\u001b[0m\n",
            "\u001b[0;32m/usr/local/lib/python3.10/dist-packages/sklearn/base.py\u001b[0m in \u001b[0;36mfit_transform\u001b[0;34m(self, X, y, **fit_params)\u001b[0m\n\u001b[1;32m    914\u001b[0m         \u001b[0;32mif\u001b[0m \u001b[0my\u001b[0m \u001b[0;32mis\u001b[0m \u001b[0;32mNone\u001b[0m\u001b[0;34m:\u001b[0m\u001b[0;34m\u001b[0m\u001b[0;34m\u001b[0m\u001b[0m\n\u001b[1;32m    915\u001b[0m             \u001b[0;31m# fit method of arity 1 (unsupervised transformation)\u001b[0m\u001b[0;34m\u001b[0m\u001b[0;34m\u001b[0m\u001b[0m\n\u001b[0;32m--> 916\u001b[0;31m             \u001b[0;32mreturn\u001b[0m \u001b[0mself\u001b[0m\u001b[0;34m.\u001b[0m\u001b[0mfit\u001b[0m\u001b[0;34m(\u001b[0m\u001b[0mX\u001b[0m\u001b[0;34m,\u001b[0m \u001b[0;34m**\u001b[0m\u001b[0mfit_params\u001b[0m\u001b[0;34m)\u001b[0m\u001b[0;34m.\u001b[0m\u001b[0mtransform\u001b[0m\u001b[0;34m(\u001b[0m\u001b[0mX\u001b[0m\u001b[0;34m)\u001b[0m\u001b[0;34m\u001b[0m\u001b[0;34m\u001b[0m\u001b[0m\n\u001b[0m\u001b[1;32m    917\u001b[0m         \u001b[0;32melse\u001b[0m\u001b[0;34m:\u001b[0m\u001b[0;34m\u001b[0m\u001b[0;34m\u001b[0m\u001b[0m\n\u001b[1;32m    918\u001b[0m             \u001b[0;31m# fit method of arity 2 (supervised transformation)\u001b[0m\u001b[0;34m\u001b[0m\u001b[0;34m\u001b[0m\u001b[0m\n",
            "\u001b[0;32m/usr/local/lib/python3.10/dist-packages/sklearn/preprocessing/_data.py\u001b[0m in \u001b[0;36mfit\u001b[0;34m(self, X, y, sample_weight)\u001b[0m\n\u001b[1;32m    837\u001b[0m         \u001b[0;31m# Reset internal state before fitting\u001b[0m\u001b[0;34m\u001b[0m\u001b[0;34m\u001b[0m\u001b[0m\n\u001b[1;32m    838\u001b[0m         \u001b[0mself\u001b[0m\u001b[0;34m.\u001b[0m\u001b[0m_reset\u001b[0m\u001b[0;34m(\u001b[0m\u001b[0;34m)\u001b[0m\u001b[0;34m\u001b[0m\u001b[0;34m\u001b[0m\u001b[0m\n\u001b[0;32m--> 839\u001b[0;31m         \u001b[0;32mreturn\u001b[0m \u001b[0mself\u001b[0m\u001b[0;34m.\u001b[0m\u001b[0mpartial_fit\u001b[0m\u001b[0;34m(\u001b[0m\u001b[0mX\u001b[0m\u001b[0;34m,\u001b[0m \u001b[0my\u001b[0m\u001b[0;34m,\u001b[0m \u001b[0msample_weight\u001b[0m\u001b[0;34m)\u001b[0m\u001b[0;34m\u001b[0m\u001b[0;34m\u001b[0m\u001b[0m\n\u001b[0m\u001b[1;32m    840\u001b[0m \u001b[0;34m\u001b[0m\u001b[0m\n\u001b[1;32m    841\u001b[0m     \u001b[0;34m@\u001b[0m\u001b[0m_fit_context\u001b[0m\u001b[0;34m(\u001b[0m\u001b[0mprefer_skip_nested_validation\u001b[0m\u001b[0;34m=\u001b[0m\u001b[0;32mTrue\u001b[0m\u001b[0;34m)\u001b[0m\u001b[0;34m\u001b[0m\u001b[0;34m\u001b[0m\u001b[0m\n",
            "\u001b[0;32m/usr/local/lib/python3.10/dist-packages/sklearn/base.py\u001b[0m in \u001b[0;36mwrapper\u001b[0;34m(estimator, *args, **kwargs)\u001b[0m\n\u001b[1;32m   1150\u001b[0m                 )\n\u001b[1;32m   1151\u001b[0m             ):\n\u001b[0;32m-> 1152\u001b[0;31m                 \u001b[0;32mreturn\u001b[0m \u001b[0mfit_method\u001b[0m\u001b[0;34m(\u001b[0m\u001b[0mestimator\u001b[0m\u001b[0;34m,\u001b[0m \u001b[0;34m*\u001b[0m\u001b[0margs\u001b[0m\u001b[0;34m,\u001b[0m \u001b[0;34m**\u001b[0m\u001b[0mkwargs\u001b[0m\u001b[0;34m)\u001b[0m\u001b[0;34m\u001b[0m\u001b[0;34m\u001b[0m\u001b[0m\n\u001b[0m\u001b[1;32m   1153\u001b[0m \u001b[0;34m\u001b[0m\u001b[0m\n\u001b[1;32m   1154\u001b[0m         \u001b[0;32mreturn\u001b[0m \u001b[0mwrapper\u001b[0m\u001b[0;34m\u001b[0m\u001b[0;34m\u001b[0m\u001b[0m\n",
            "\u001b[0;32m/usr/local/lib/python3.10/dist-packages/sklearn/preprocessing/_data.py\u001b[0m in \u001b[0;36mpartial_fit\u001b[0;34m(self, X, y, sample_weight)\u001b[0m\n\u001b[1;32m    873\u001b[0m         \"\"\"\n\u001b[1;32m    874\u001b[0m         \u001b[0mfirst_call\u001b[0m \u001b[0;34m=\u001b[0m \u001b[0;32mnot\u001b[0m \u001b[0mhasattr\u001b[0m\u001b[0;34m(\u001b[0m\u001b[0mself\u001b[0m\u001b[0;34m,\u001b[0m \u001b[0;34m\"n_samples_seen_\"\u001b[0m\u001b[0;34m)\u001b[0m\u001b[0;34m\u001b[0m\u001b[0;34m\u001b[0m\u001b[0m\n\u001b[0;32m--> 875\u001b[0;31m         X = self._validate_data(\n\u001b[0m\u001b[1;32m    876\u001b[0m             \u001b[0mX\u001b[0m\u001b[0;34m,\u001b[0m\u001b[0;34m\u001b[0m\u001b[0;34m\u001b[0m\u001b[0m\n\u001b[1;32m    877\u001b[0m             \u001b[0maccept_sparse\u001b[0m\u001b[0;34m=\u001b[0m\u001b[0;34m(\u001b[0m\u001b[0;34m\"csr\"\u001b[0m\u001b[0;34m,\u001b[0m \u001b[0;34m\"csc\"\u001b[0m\u001b[0;34m)\u001b[0m\u001b[0;34m,\u001b[0m\u001b[0;34m\u001b[0m\u001b[0;34m\u001b[0m\u001b[0m\n",
            "\u001b[0;32m/usr/local/lib/python3.10/dist-packages/sklearn/base.py\u001b[0m in \u001b[0;36m_validate_data\u001b[0;34m(self, X, y, reset, validate_separately, cast_to_ndarray, **check_params)\u001b[0m\n\u001b[1;32m    603\u001b[0m                 \u001b[0mout\u001b[0m \u001b[0;34m=\u001b[0m \u001b[0mX\u001b[0m\u001b[0;34m,\u001b[0m \u001b[0my\u001b[0m\u001b[0;34m\u001b[0m\u001b[0;34m\u001b[0m\u001b[0m\n\u001b[1;32m    604\u001b[0m         \u001b[0;32melif\u001b[0m \u001b[0;32mnot\u001b[0m \u001b[0mno_val_X\u001b[0m \u001b[0;32mand\u001b[0m \u001b[0mno_val_y\u001b[0m\u001b[0;34m:\u001b[0m\u001b[0;34m\u001b[0m\u001b[0;34m\u001b[0m\u001b[0m\n\u001b[0;32m--> 605\u001b[0;31m             \u001b[0mout\u001b[0m \u001b[0;34m=\u001b[0m \u001b[0mcheck_array\u001b[0m\u001b[0;34m(\u001b[0m\u001b[0mX\u001b[0m\u001b[0;34m,\u001b[0m \u001b[0minput_name\u001b[0m\u001b[0;34m=\u001b[0m\u001b[0;34m\"X\"\u001b[0m\u001b[0;34m,\u001b[0m \u001b[0;34m**\u001b[0m\u001b[0mcheck_params\u001b[0m\u001b[0;34m)\u001b[0m\u001b[0;34m\u001b[0m\u001b[0;34m\u001b[0m\u001b[0m\n\u001b[0m\u001b[1;32m    606\u001b[0m         \u001b[0;32melif\u001b[0m \u001b[0mno_val_X\u001b[0m \u001b[0;32mand\u001b[0m \u001b[0;32mnot\u001b[0m \u001b[0mno_val_y\u001b[0m\u001b[0;34m:\u001b[0m\u001b[0;34m\u001b[0m\u001b[0;34m\u001b[0m\u001b[0m\n\u001b[1;32m    607\u001b[0m             \u001b[0mout\u001b[0m \u001b[0;34m=\u001b[0m \u001b[0m_check_y\u001b[0m\u001b[0;34m(\u001b[0m\u001b[0my\u001b[0m\u001b[0;34m,\u001b[0m \u001b[0;34m**\u001b[0m\u001b[0mcheck_params\u001b[0m\u001b[0;34m)\u001b[0m\u001b[0;34m\u001b[0m\u001b[0;34m\u001b[0m\u001b[0m\n",
            "\u001b[0;32m/usr/local/lib/python3.10/dist-packages/sklearn/utils/validation.py\u001b[0m in \u001b[0;36mcheck_array\u001b[0;34m(array, accept_sparse, accept_large_sparse, dtype, order, copy, force_all_finite, ensure_2d, allow_nd, ensure_min_samples, ensure_min_features, estimator, input_name)\u001b[0m\n\u001b[1;32m    793\u001b[0m         )\n\u001b[1;32m    794\u001b[0m         \u001b[0;32mif\u001b[0m \u001b[0mall\u001b[0m\u001b[0;34m(\u001b[0m\u001b[0misinstance\u001b[0m\u001b[0;34m(\u001b[0m\u001b[0mdtype_iter\u001b[0m\u001b[0;34m,\u001b[0m \u001b[0mnp\u001b[0m\u001b[0;34m.\u001b[0m\u001b[0mdtype\u001b[0m\u001b[0;34m)\u001b[0m \u001b[0;32mfor\u001b[0m \u001b[0mdtype_iter\u001b[0m \u001b[0;32min\u001b[0m \u001b[0mdtypes_orig\u001b[0m\u001b[0;34m)\u001b[0m\u001b[0;34m:\u001b[0m\u001b[0;34m\u001b[0m\u001b[0;34m\u001b[0m\u001b[0m\n\u001b[0;32m--> 795\u001b[0;31m             \u001b[0mdtype_orig\u001b[0m \u001b[0;34m=\u001b[0m \u001b[0mnp\u001b[0m\u001b[0;34m.\u001b[0m\u001b[0mresult_type\u001b[0m\u001b[0;34m(\u001b[0m\u001b[0;34m*\u001b[0m\u001b[0mdtypes_orig\u001b[0m\u001b[0;34m)\u001b[0m\u001b[0;34m\u001b[0m\u001b[0;34m\u001b[0m\u001b[0m\n\u001b[0m\u001b[1;32m    796\u001b[0m         \u001b[0;32melif\u001b[0m \u001b[0mpandas_requires_conversion\u001b[0m \u001b[0;32mand\u001b[0m \u001b[0many\u001b[0m\u001b[0;34m(\u001b[0m\u001b[0md\u001b[0m \u001b[0;34m==\u001b[0m \u001b[0mobject\u001b[0m \u001b[0;32mfor\u001b[0m \u001b[0md\u001b[0m \u001b[0;32min\u001b[0m \u001b[0mdtypes_orig\u001b[0m\u001b[0;34m)\u001b[0m\u001b[0;34m:\u001b[0m\u001b[0;34m\u001b[0m\u001b[0;34m\u001b[0m\u001b[0m\n\u001b[1;32m    797\u001b[0m             \u001b[0;31m# Force object if any of the dtypes is an object\u001b[0m\u001b[0;34m\u001b[0m\u001b[0;34m\u001b[0m\u001b[0m\n",
            "\u001b[0;31mDTypePromotionError\u001b[0m: The DType <class 'numpy.dtypes.DateTime64DType'> could not be promoted by <class 'numpy.dtypes.Float64DType'>. This means that no common DType exists for the given inputs. For example they cannot be stored in a single array unless the dtype is `object`. The full list of DTypes is: (<class 'numpy.dtypes.DateTime64DType'>, <class 'numpy.dtypes.Int8DType'>, <class 'numpy.dtypes.Int8DType'>, <class 'numpy.dtypes.Int8DType'>, <class 'numpy.dtypes.Int8DType'>, <class 'numpy.dtypes.Int8DType'>, <class 'numpy.dtypes.Int8DType'>, <class 'numpy.dtypes.Int8DType'>, <class 'numpy.dtypes.Int8DType'>, <class 'numpy.dtypes.Float64DType'>, <class 'numpy.dtypes.Int8DType'>, <class 'numpy.dtypes.Int8DType'>, <class 'numpy.dtypes.Int8DType'>, <class 'numpy.dtypes.Int8DType'>, <class 'numpy.dtypes.Int8DType'>, <class 'numpy.dtypes.Int8DType'>, <class 'numpy.dtypes.Int8DType'>, <class 'numpy.dtypes.Int8DType'>, <class 'numpy.dtypes.Int8DType'>, <class 'numpy.dtypes.Int8DType'>, <class 'numpy.dtypes.Int64DType'>, <class 'numpy.dtypes.Int8DType'>, <class 'numpy.dtypes.Int8DType'>, <class 'numpy.dtypes.Int8DType'>, <class 'numpy.dtypes.Int8DType'>, <class 'numpy.dtypes.Int8DType'>, <class 'numpy.dtypes.Int8DType'>, <class 'numpy.dtypes.Int8DType'>, <class 'numpy.dtypes.Int8DType'>, <class 'numpy.dtypes.Int8DType'>, <class 'numpy.dtypes.Float64DType'>)"
          ]
        }
      ]
    },
    {
      "cell_type": "code",
      "source": [
        "from sklearn.metrics import accuracy_score, classification_report\n",
        "from sklearn.preprocessing import StandardScaler, LabelEncoder"
      ],
      "metadata": {
        "id": "Pw_gZl1wI3jl"
      },
      "id": "Pw_gZl1wI3jl",
      "execution_count": 371,
      "outputs": []
    },
    {
      "cell_type": "code",
      "source": [
        "datetime_columns = df.select_dtypes(include=['datetime64']).columns"
      ],
      "metadata": {
        "id": "LKqyWAHxH1LE"
      },
      "id": "LKqyWAHxH1LE",
      "execution_count": 361,
      "outputs": []
    },
    {
      "cell_type": "code",
      "source": [
        "for column in datetime_columns:\n",
        "    df[column] = pd.to_datetime(df[column], errors='coerce')\n",
        "    df[column] = df[column].astype('int64')"
      ],
      "metadata": {
        "id": "Jaj0uJegH_Z7"
      },
      "id": "Jaj0uJegH_Z7",
      "execution_count": 362,
      "outputs": []
    },
    {
      "cell_type": "code",
      "source": [
        "categorical_columns = df.select_dtypes(include=['object']).columns\n",
        "for column in categorical_columns:\n",
        "    if column != 'Number_of_casualties':\n",
        "        df[column] = df[column].astype('category').cat.codes"
      ],
      "metadata": {
        "id": "2cohsmoZIEvf"
      },
      "id": "2cohsmoZIEvf",
      "execution_count": 363,
      "outputs": []
    },
    {
      "cell_type": "code",
      "source": [
        "X = df.drop('Number_of_casualties', axis=1)\n",
        "y = df['Number_of_casualties']\n",
        "X_train, X_test, y_train, y_test = train_test_split(X, y, test_size=0.2, random_state=42)"
      ],
      "metadata": {
        "id": "enZs7eOMIHs1"
      },
      "id": "enZs7eOMIHs1",
      "execution_count": 365,
      "outputs": []
    },
    {
      "cell_type": "code",
      "source": [
        "scaler = StandardScaler()\n",
        "X_train = scaler.fit_transform(X_train)\n",
        "X_test = scaler.transform(X_test)"
      ],
      "metadata": {
        "id": "ZXPn26h3IOIs"
      },
      "id": "ZXPn26h3IOIs",
      "execution_count": 366,
      "outputs": []
    },
    {
      "cell_type": "code",
      "source": [
        "log_reg = LogisticRegression(solver=\"lbfgs\", max_iter=1000, random_state=42)\n",
        "log_reg.fit(X_train, y_train)"
      ],
      "metadata": {
        "colab": {
          "base_uri": "https://localhost:8080/",
          "height": 74
        },
        "id": "5W-TVNWVIRHV",
        "outputId": "a8d8de44-ac3a-42b2-a0ce-55d891e732e2"
      },
      "id": "5W-TVNWVIRHV",
      "execution_count": 367,
      "outputs": [
        {
          "output_type": "execute_result",
          "data": {
            "text/plain": [
              "LogisticRegression(max_iter=1000, random_state=42)"
            ],
            "text/html": [
              "<style>#sk-container-id-1 {color: black;}#sk-container-id-1 pre{padding: 0;}#sk-container-id-1 div.sk-toggleable {background-color: white;}#sk-container-id-1 label.sk-toggleable__label {cursor: pointer;display: block;width: 100%;margin-bottom: 0;padding: 0.3em;box-sizing: border-box;text-align: center;}#sk-container-id-1 label.sk-toggleable__label-arrow:before {content: \"▸\";float: left;margin-right: 0.25em;color: #696969;}#sk-container-id-1 label.sk-toggleable__label-arrow:hover:before {color: black;}#sk-container-id-1 div.sk-estimator:hover label.sk-toggleable__label-arrow:before {color: black;}#sk-container-id-1 div.sk-toggleable__content {max-height: 0;max-width: 0;overflow: hidden;text-align: left;background-color: #f0f8ff;}#sk-container-id-1 div.sk-toggleable__content pre {margin: 0.2em;color: black;border-radius: 0.25em;background-color: #f0f8ff;}#sk-container-id-1 input.sk-toggleable__control:checked~div.sk-toggleable__content {max-height: 200px;max-width: 100%;overflow: auto;}#sk-container-id-1 input.sk-toggleable__control:checked~label.sk-toggleable__label-arrow:before {content: \"▾\";}#sk-container-id-1 div.sk-estimator input.sk-toggleable__control:checked~label.sk-toggleable__label {background-color: #d4ebff;}#sk-container-id-1 div.sk-label input.sk-toggleable__control:checked~label.sk-toggleable__label {background-color: #d4ebff;}#sk-container-id-1 input.sk-hidden--visually {border: 0;clip: rect(1px 1px 1px 1px);clip: rect(1px, 1px, 1px, 1px);height: 1px;margin: -1px;overflow: hidden;padding: 0;position: absolute;width: 1px;}#sk-container-id-1 div.sk-estimator {font-family: monospace;background-color: #f0f8ff;border: 1px dotted black;border-radius: 0.25em;box-sizing: border-box;margin-bottom: 0.5em;}#sk-container-id-1 div.sk-estimator:hover {background-color: #d4ebff;}#sk-container-id-1 div.sk-parallel-item::after {content: \"\";width: 100%;border-bottom: 1px solid gray;flex-grow: 1;}#sk-container-id-1 div.sk-label:hover label.sk-toggleable__label {background-color: #d4ebff;}#sk-container-id-1 div.sk-serial::before {content: \"\";position: absolute;border-left: 1px solid gray;box-sizing: border-box;top: 0;bottom: 0;left: 50%;z-index: 0;}#sk-container-id-1 div.sk-serial {display: flex;flex-direction: column;align-items: center;background-color: white;padding-right: 0.2em;padding-left: 0.2em;position: relative;}#sk-container-id-1 div.sk-item {position: relative;z-index: 1;}#sk-container-id-1 div.sk-parallel {display: flex;align-items: stretch;justify-content: center;background-color: white;position: relative;}#sk-container-id-1 div.sk-item::before, #sk-container-id-1 div.sk-parallel-item::before {content: \"\";position: absolute;border-left: 1px solid gray;box-sizing: border-box;top: 0;bottom: 0;left: 50%;z-index: -1;}#sk-container-id-1 div.sk-parallel-item {display: flex;flex-direction: column;z-index: 1;position: relative;background-color: white;}#sk-container-id-1 div.sk-parallel-item:first-child::after {align-self: flex-end;width: 50%;}#sk-container-id-1 div.sk-parallel-item:last-child::after {align-self: flex-start;width: 50%;}#sk-container-id-1 div.sk-parallel-item:only-child::after {width: 0;}#sk-container-id-1 div.sk-dashed-wrapped {border: 1px dashed gray;margin: 0 0.4em 0.5em 0.4em;box-sizing: border-box;padding-bottom: 0.4em;background-color: white;}#sk-container-id-1 div.sk-label label {font-family: monospace;font-weight: bold;display: inline-block;line-height: 1.2em;}#sk-container-id-1 div.sk-label-container {text-align: center;}#sk-container-id-1 div.sk-container {/* jupyter's `normalize.less` sets `[hidden] { display: none; }` but bootstrap.min.css set `[hidden] { display: none !important; }` so we also need the `!important` here to be able to override the default hidden behavior on the sphinx rendered scikit-learn.org. See: https://github.com/scikit-learn/scikit-learn/issues/21755 */display: inline-block !important;position: relative;}#sk-container-id-1 div.sk-text-repr-fallback {display: none;}</style><div id=\"sk-container-id-1\" class=\"sk-top-container\"><div class=\"sk-text-repr-fallback\"><pre>LogisticRegression(max_iter=1000, random_state=42)</pre><b>In a Jupyter environment, please rerun this cell to show the HTML representation or trust the notebook. <br />On GitHub, the HTML representation is unable to render, please try loading this page with nbviewer.org.</b></div><div class=\"sk-container\" hidden><div class=\"sk-item\"><div class=\"sk-estimator sk-toggleable\"><input class=\"sk-toggleable__control sk-hidden--visually\" id=\"sk-estimator-id-1\" type=\"checkbox\" checked><label for=\"sk-estimator-id-1\" class=\"sk-toggleable__label sk-toggleable__label-arrow\">LogisticRegression</label><div class=\"sk-toggleable__content\"><pre>LogisticRegression(max_iter=1000, random_state=42)</pre></div></div></div></div></div>"
            ]
          },
          "metadata": {},
          "execution_count": 367
        }
      ]
    },
    {
      "cell_type": "code",
      "source": [
        "y_pred = log_reg.predict(X_test)"
      ],
      "metadata": {
        "id": "ROzqTvr3IVOf"
      },
      "id": "ROzqTvr3IVOf",
      "execution_count": 368,
      "outputs": []
    },
    {
      "cell_type": "code",
      "source": [
        "print(\"Accuracy Score:\", accuracy_score(y_test, y_pred))\n",
        "print(\"Classification Report:\\n\", classification_report(y_test, y_pred))"
      ],
      "metadata": {
        "colab": {
          "base_uri": "https://localhost:8080/"
        },
        "id": "vVMnt1CjIcr6",
        "outputId": "e121cf2f-9a3d-4342-d35e-1b5f9c809daa"
      },
      "id": "vVMnt1CjIcr6",
      "execution_count": 372,
      "outputs": [
        {
          "output_type": "stream",
          "name": "stdout",
          "text": [
            "Accuracy Score: 0.9553571428571429\n",
            "Classification Report:\n",
            "               precision    recall  f1-score   support\n",
            "\n",
            "           1       1.00      1.00      1.00      1654\n",
            "           2       0.99      0.98      0.99       460\n",
            "           3       0.80      0.96      0.87       186\n",
            "           4       0.60      0.44      0.51        90\n",
            "           5       0.59      0.58      0.58        45\n",
            "           6       0.43      0.16      0.23        19\n",
            "           7       0.00      0.00      0.00         7\n",
            "           8       0.00      0.00      0.00         3\n",
            "\n",
            "    accuracy                           0.96      2464\n",
            "   macro avg       0.55      0.52      0.52      2464\n",
            "weighted avg       0.95      0.96      0.95      2464\n",
            "\n"
          ]
        },
        {
          "output_type": "stream",
          "name": "stderr",
          "text": [
            "/usr/local/lib/python3.10/dist-packages/sklearn/metrics/_classification.py:1471: UndefinedMetricWarning: Precision and F-score are ill-defined and being set to 0.0 in labels with no predicted samples. Use `zero_division` parameter to control this behavior.\n",
            "  _warn_prf(average, modifier, msg_start, len(result))\n",
            "/usr/local/lib/python3.10/dist-packages/sklearn/metrics/_classification.py:1471: UndefinedMetricWarning: Precision and F-score are ill-defined and being set to 0.0 in labels with no predicted samples. Use `zero_division` parameter to control this behavior.\n",
            "  _warn_prf(average, modifier, msg_start, len(result))\n",
            "/usr/local/lib/python3.10/dist-packages/sklearn/metrics/_classification.py:1471: UndefinedMetricWarning: Precision and F-score are ill-defined and being set to 0.0 in labels with no predicted samples. Use `zero_division` parameter to control this behavior.\n",
            "  _warn_prf(average, modifier, msg_start, len(result))\n"
          ]
        }
      ]
    },
    {
      "cell_type": "markdown",
      "id": "0cfd5ecb",
      "metadata": {
        "id": "0cfd5ecb"
      },
      "source": [
        "#### Decision Tree Classifier"
      ]
    },
    {
      "cell_type": "code",
      "execution_count": null,
      "id": "0ba4edd5",
      "metadata": {
        "id": "0ba4edd5"
      },
      "outputs": [],
      "source": []
    },
    {
      "cell_type": "markdown",
      "id": "7ce21487",
      "metadata": {
        "id": "7ce21487"
      },
      "source": [
        "#### Support Vector Machine (SVM)"
      ]
    },
    {
      "cell_type": "code",
      "execution_count": null,
      "id": "6f448f26",
      "metadata": {
        "id": "6f448f26"
      },
      "outputs": [],
      "source": []
    },
    {
      "cell_type": "markdown",
      "id": "f3656932",
      "metadata": {
        "id": "f3656932"
      },
      "source": [
        "#### K-Neighbors Classifier"
      ]
    },
    {
      "cell_type": "code",
      "execution_count": null,
      "id": "c8c73d33",
      "metadata": {
        "id": "c8c73d33"
      },
      "outputs": [],
      "source": []
    },
    {
      "cell_type": "markdown",
      "id": "12057ba0",
      "metadata": {
        "id": "12057ba0"
      },
      "source": [
        "## Model Evaluation\n",
        "\n",
        "After training your models, it's crucial to evaluate their performance to understand their effectiveness and limitations. This section outlines various techniques and metrics to assess the performance of each model you have implemented.\n",
        "\n",
        "### Evaluation Techniques\n",
        "1. **Confusion Matrix**\n",
        "\n",
        "2. **Accuracy**\n",
        "\n",
        "3. **Precision and Recall**\n",
        "\n",
        "4. **F1 Score**\n",
        "\n",
        "5. **ROC Curve and AUC**\n",
        "\n",
        "### Implementing Evaluation\n",
        "- Calculate the metrics listed above using your test data."
      ]
    },
    {
      "cell_type": "code",
      "execution_count": null,
      "id": "c8328067",
      "metadata": {
        "id": "c8328067"
      },
      "outputs": [],
      "source": []
    },
    {
      "cell_type": "markdown",
      "id": "65f17c12",
      "metadata": {
        "id": "65f17c12"
      },
      "source": [
        "## Project Questions:\n",
        "\n",
        "### Comparative Analysis\n",
        "\n",
        "- **Compare Metrics**: Examine the performance metrics (such as accuracy, precision, and recall) of each model. Document your observations on which model performs best for your dataset and the problem you're addressing.\n",
        "- **Evaluate Trade-offs**: Discuss the trade-offs you encountered when choosing between models. Consider factors like computational efficiency, ease of implementation, and model interpretability.\n",
        "- **Justify Your Choice**: After comparing and evaluating, explain why you believe one model is the best choice. Provide a clear rationale based on the performance metrics and trade-offs discussed.\n",
        "- **Feature Importance**: Identify and discuss the most important features for the best-performing model. How do these features impact the predictions? Use the visualizations you have created to justify your answer if necessary.\n",
        "- **Model Limitations**: Discuss any limitations you encountered with the models you used. Are there any aspects of the data or the problem that these models do not handle well?\n",
        "- **Future Improvements**: Suggest potential improvements or further steps you could take to enhance model performance. This could include trying different algorithms, feature engineering techniques, or tuning hyperparameters."
      ]
    },
    {
      "cell_type": "markdown",
      "id": "76425529",
      "metadata": {
        "id": "76425529"
      },
      "source": [
        "### Answer Here:"
      ]
    }
  ],
  "metadata": {
    "language_info": {
      "name": "python"
    },
    "colab": {
      "provenance": []
    },
    "kernelspec": {
      "name": "python3",
      "display_name": "Python 3"
    }
  },
  "nbformat": 4,
  "nbformat_minor": 5
}